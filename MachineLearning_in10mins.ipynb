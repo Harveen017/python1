{
  "nbformat": 4,
  "nbformat_minor": 0,
  "metadata": {
    "colab": {
      "name": "MachineLearning_in10mins.ipynb",
      "provenance": [],
      "collapsed_sections": [
        "S5PNpZds19Ob",
        "RL3_AhpY2in8",
        "AmBmUu023S8z",
        "my9HrwMR3be6",
        "XaWl5OHGdi2h",
        "eSyVRXuJeU7p",
        "R861AcfdnDum",
        "3JCEh9p8fTLH"
      ],
      "toc_visible": true,
      "authorship_tag": "ABX9TyOIsyJZi0n3b3r1ITw5LFRF",
      "include_colab_link": true
    },
    "kernelspec": {
      "name": "python3",
      "display_name": "Python 3"
    },
    "language_info": {
      "name": "python"
    }
  },
  "cells": [
    {
      "cell_type": "markdown",
      "metadata": {
        "id": "view-in-github",
        "colab_type": "text"
      },
      "source": [
        "<a href=\"https://colab.research.google.com/github/sarwansingh/Python/blob/MachineLearning/MachineLearning_in10mins.ipynb\" target=\"_parent\"><img src=\"https://colab.research.google.com/assets/colab-badge.svg\" alt=\"Open In Colab\"/></a>"
      ]
    },
    {
      "cell_type": "markdown",
      "source": [
        "## Import data "
      ],
      "metadata": {
        "id": "XRd1Y6NHzUDl"
      }
    },
    {
      "cell_type": "code",
      "execution_count": null,
      "metadata": {
        "colab": {
          "base_uri": "https://localhost:8080/",
          "height": 206
        },
        "id": "mGwJtdn3zNUH",
        "outputId": "55fc813c-e35c-4d10-f7dc-d3a9b359ac38"
      },
      "outputs": [
        {
          "output_type": "execute_result",
          "data": {
            "text/plain": [
              "   Self_Study_Daily  Tutorials_Monthly  Pass_Or_Fail\n",
              "0                 7                 27             1\n",
              "1                 2                 43             0\n",
              "2                 7                 26             1\n",
              "3                 8                 29             1\n",
              "4                 3                 42             0"
            ],
            "text/html": [
              "\n",
              "  <div id=\"df-13c35402-1a9e-4b40-a9c9-cd8b1a9ba6e7\">\n",
              "    <div class=\"colab-df-container\">\n",
              "      <div>\n",
              "<style scoped>\n",
              "    .dataframe tbody tr th:only-of-type {\n",
              "        vertical-align: middle;\n",
              "    }\n",
              "\n",
              "    .dataframe tbody tr th {\n",
              "        vertical-align: top;\n",
              "    }\n",
              "\n",
              "    .dataframe thead th {\n",
              "        text-align: right;\n",
              "    }\n",
              "</style>\n",
              "<table border=\"1\" class=\"dataframe\">\n",
              "  <thead>\n",
              "    <tr style=\"text-align: right;\">\n",
              "      <th></th>\n",
              "      <th>Self_Study_Daily</th>\n",
              "      <th>Tutorials_Monthly</th>\n",
              "      <th>Pass_Or_Fail</th>\n",
              "    </tr>\n",
              "  </thead>\n",
              "  <tbody>\n",
              "    <tr>\n",
              "      <th>0</th>\n",
              "      <td>7</td>\n",
              "      <td>27</td>\n",
              "      <td>1</td>\n",
              "    </tr>\n",
              "    <tr>\n",
              "      <th>1</th>\n",
              "      <td>2</td>\n",
              "      <td>43</td>\n",
              "      <td>0</td>\n",
              "    </tr>\n",
              "    <tr>\n",
              "      <th>2</th>\n",
              "      <td>7</td>\n",
              "      <td>26</td>\n",
              "      <td>1</td>\n",
              "    </tr>\n",
              "    <tr>\n",
              "      <th>3</th>\n",
              "      <td>8</td>\n",
              "      <td>29</td>\n",
              "      <td>1</td>\n",
              "    </tr>\n",
              "    <tr>\n",
              "      <th>4</th>\n",
              "      <td>3</td>\n",
              "      <td>42</td>\n",
              "      <td>0</td>\n",
              "    </tr>\n",
              "  </tbody>\n",
              "</table>\n",
              "</div>\n",
              "      <button class=\"colab-df-convert\" onclick=\"convertToInteractive('df-13c35402-1a9e-4b40-a9c9-cd8b1a9ba6e7')\"\n",
              "              title=\"Convert this dataframe to an interactive table.\"\n",
              "              style=\"display:none;\">\n",
              "        \n",
              "  <svg xmlns=\"http://www.w3.org/2000/svg\" height=\"24px\"viewBox=\"0 0 24 24\"\n",
              "       width=\"24px\">\n",
              "    <path d=\"M0 0h24v24H0V0z\" fill=\"none\"/>\n",
              "    <path d=\"M18.56 5.44l.94 2.06.94-2.06 2.06-.94-2.06-.94-.94-2.06-.94 2.06-2.06.94zm-11 1L8.5 8.5l.94-2.06 2.06-.94-2.06-.94L8.5 2.5l-.94 2.06-2.06.94zm10 10l.94 2.06.94-2.06 2.06-.94-2.06-.94-.94-2.06-.94 2.06-2.06.94z\"/><path d=\"M17.41 7.96l-1.37-1.37c-.4-.4-.92-.59-1.43-.59-.52 0-1.04.2-1.43.59L10.3 9.45l-7.72 7.72c-.78.78-.78 2.05 0 2.83L4 21.41c.39.39.9.59 1.41.59.51 0 1.02-.2 1.41-.59l7.78-7.78 2.81-2.81c.8-.78.8-2.07 0-2.86zM5.41 20L4 18.59l7.72-7.72 1.47 1.35L5.41 20z\"/>\n",
              "  </svg>\n",
              "      </button>\n",
              "      \n",
              "  <style>\n",
              "    .colab-df-container {\n",
              "      display:flex;\n",
              "      flex-wrap:wrap;\n",
              "      gap: 12px;\n",
              "    }\n",
              "\n",
              "    .colab-df-convert {\n",
              "      background-color: #E8F0FE;\n",
              "      border: none;\n",
              "      border-radius: 50%;\n",
              "      cursor: pointer;\n",
              "      display: none;\n",
              "      fill: #1967D2;\n",
              "      height: 32px;\n",
              "      padding: 0 0 0 0;\n",
              "      width: 32px;\n",
              "    }\n",
              "\n",
              "    .colab-df-convert:hover {\n",
              "      background-color: #E2EBFA;\n",
              "      box-shadow: 0px 1px 2px rgba(60, 64, 67, 0.3), 0px 1px 3px 1px rgba(60, 64, 67, 0.15);\n",
              "      fill: #174EA6;\n",
              "    }\n",
              "\n",
              "    [theme=dark] .colab-df-convert {\n",
              "      background-color: #3B4455;\n",
              "      fill: #D2E3FC;\n",
              "    }\n",
              "\n",
              "    [theme=dark] .colab-df-convert:hover {\n",
              "      background-color: #434B5C;\n",
              "      box-shadow: 0px 1px 3px 1px rgba(0, 0, 0, 0.15);\n",
              "      filter: drop-shadow(0px 1px 2px rgba(0, 0, 0, 0.3));\n",
              "      fill: #FFFFFF;\n",
              "    }\n",
              "  </style>\n",
              "\n",
              "      <script>\n",
              "        const buttonEl =\n",
              "          document.querySelector('#df-13c35402-1a9e-4b40-a9c9-cd8b1a9ba6e7 button.colab-df-convert');\n",
              "        buttonEl.style.display =\n",
              "          google.colab.kernel.accessAllowed ? 'block' : 'none';\n",
              "\n",
              "        async function convertToInteractive(key) {\n",
              "          const element = document.querySelector('#df-13c35402-1a9e-4b40-a9c9-cd8b1a9ba6e7');\n",
              "          const dataTable =\n",
              "            await google.colab.kernel.invokeFunction('convertToInteractive',\n",
              "                                                     [key], {});\n",
              "          if (!dataTable) return;\n",
              "\n",
              "          const docLinkHtml = 'Like what you see? Visit the ' +\n",
              "            '<a target=\"_blank\" href=https://colab.research.google.com/notebooks/data_table.ipynb>data table notebook</a>'\n",
              "            + ' to learn more about interactive tables.';\n",
              "          element.innerHTML = '';\n",
              "          dataTable['output_type'] = 'display_data';\n",
              "          await google.colab.output.renderOutput(dataTable, element);\n",
              "          const docLink = document.createElement('div');\n",
              "          docLink.innerHTML = docLinkHtml;\n",
              "          element.appendChild(docLink);\n",
              "        }\n",
              "      </script>\n",
              "    </div>\n",
              "  </div>\n",
              "  "
            ]
          },
          "metadata": {},
          "execution_count": 3
        }
      ],
      "source": [
        "import pandas as pd\n",
        "import numpy as np\n",
        "\n",
        "url = \"https://raw.githubusercontent.com/sarwansingh/Python/master/ClassExamples/data/student-pass-fail-data.csv\"\n",
        "dfspf = pd.read_csv(url)\n",
        "dfspf.head()"
      ]
    },
    {
      "cell_type": "markdown",
      "source": [
        "#### describe data"
      ],
      "metadata": {
        "id": "TQin8tBa0xnq"
      }
    },
    {
      "cell_type": "code",
      "source": [
        "# describe /info\n",
        "dfspf.info()"
      ],
      "metadata": {
        "colab": {
          "base_uri": "https://localhost:8080/"
        },
        "id": "vjxIIlYTzxvr",
        "outputId": "2b91a239-872f-43ed-b307-94d2ed1c4d1d"
      },
      "execution_count": null,
      "outputs": [
        {
          "output_type": "stream",
          "name": "stdout",
          "text": [
            "<class 'pandas.core.frame.DataFrame'>\n",
            "RangeIndex: 1000 entries, 0 to 999\n",
            "Data columns (total 3 columns):\n",
            " #   Column             Non-Null Count  Dtype\n",
            "---  ------             --------------  -----\n",
            " 0   Self_Study_Daily   1000 non-null   int64\n",
            " 1   Tutorials_Monthly  1000 non-null   int64\n",
            " 2   Pass_Or_Fail       1000 non-null   int64\n",
            "dtypes: int64(3)\n",
            "memory usage: 23.6 KB\n"
          ]
        }
      ]
    },
    {
      "cell_type": "code",
      "source": [
        "dfspf.describe()"
      ],
      "metadata": {
        "colab": {
          "base_uri": "https://localhost:8080/",
          "height": 300
        },
        "id": "6-bspaYV0ZUp",
        "outputId": "1b3f5a07-0130-4d05-e0be-f5390d1273b3"
      },
      "execution_count": null,
      "outputs": [
        {
          "output_type": "execute_result",
          "data": {
            "text/html": [
              "\n",
              "  <div id=\"df-975e6756-dbd8-4f48-9b5a-88f823a8c186\">\n",
              "    <div class=\"colab-df-container\">\n",
              "      <div>\n",
              "<style scoped>\n",
              "    .dataframe tbody tr th:only-of-type {\n",
              "        vertical-align: middle;\n",
              "    }\n",
              "\n",
              "    .dataframe tbody tr th {\n",
              "        vertical-align: top;\n",
              "    }\n",
              "\n",
              "    .dataframe thead th {\n",
              "        text-align: right;\n",
              "    }\n",
              "</style>\n",
              "<table border=\"1\" class=\"dataframe\">\n",
              "  <thead>\n",
              "    <tr style=\"text-align: right;\">\n",
              "      <th></th>\n",
              "      <th>Self_Study_Daily</th>\n",
              "      <th>Tutorials_Monthly</th>\n",
              "      <th>Pass_Or_Fail</th>\n",
              "    </tr>\n",
              "  </thead>\n",
              "  <tbody>\n",
              "    <tr>\n",
              "      <th>count</th>\n",
              "      <td>1000.000000</td>\n",
              "      <td>1000.000000</td>\n",
              "      <td>1000.000000</td>\n",
              "    </tr>\n",
              "    <tr>\n",
              "      <th>mean</th>\n",
              "      <td>5.744000</td>\n",
              "      <td>31.230000</td>\n",
              "      <td>0.499000</td>\n",
              "    </tr>\n",
              "    <tr>\n",
              "      <th>std</th>\n",
              "      <td>2.121076</td>\n",
              "      <td>5.976355</td>\n",
              "      <td>0.500249</td>\n",
              "    </tr>\n",
              "    <tr>\n",
              "      <th>min</th>\n",
              "      <td>0.000000</td>\n",
              "      <td>20.000000</td>\n",
              "      <td>0.000000</td>\n",
              "    </tr>\n",
              "    <tr>\n",
              "      <th>25%</th>\n",
              "      <td>4.000000</td>\n",
              "      <td>26.000000</td>\n",
              "      <td>0.000000</td>\n",
              "    </tr>\n",
              "    <tr>\n",
              "      <th>50%</th>\n",
              "      <td>6.000000</td>\n",
              "      <td>30.000000</td>\n",
              "      <td>0.000000</td>\n",
              "    </tr>\n",
              "    <tr>\n",
              "      <th>75%</th>\n",
              "      <td>7.000000</td>\n",
              "      <td>36.000000</td>\n",
              "      <td>1.000000</td>\n",
              "    </tr>\n",
              "    <tr>\n",
              "      <th>max</th>\n",
              "      <td>10.000000</td>\n",
              "      <td>50.000000</td>\n",
              "      <td>1.000000</td>\n",
              "    </tr>\n",
              "  </tbody>\n",
              "</table>\n",
              "</div>\n",
              "      <button class=\"colab-df-convert\" onclick=\"convertToInteractive('df-975e6756-dbd8-4f48-9b5a-88f823a8c186')\"\n",
              "              title=\"Convert this dataframe to an interactive table.\"\n",
              "              style=\"display:none;\">\n",
              "        \n",
              "  <svg xmlns=\"http://www.w3.org/2000/svg\" height=\"24px\"viewBox=\"0 0 24 24\"\n",
              "       width=\"24px\">\n",
              "    <path d=\"M0 0h24v24H0V0z\" fill=\"none\"/>\n",
              "    <path d=\"M18.56 5.44l.94 2.06.94-2.06 2.06-.94-2.06-.94-.94-2.06-.94 2.06-2.06.94zm-11 1L8.5 8.5l.94-2.06 2.06-.94-2.06-.94L8.5 2.5l-.94 2.06-2.06.94zm10 10l.94 2.06.94-2.06 2.06-.94-2.06-.94-.94-2.06-.94 2.06-2.06.94z\"/><path d=\"M17.41 7.96l-1.37-1.37c-.4-.4-.92-.59-1.43-.59-.52 0-1.04.2-1.43.59L10.3 9.45l-7.72 7.72c-.78.78-.78 2.05 0 2.83L4 21.41c.39.39.9.59 1.41.59.51 0 1.02-.2 1.41-.59l7.78-7.78 2.81-2.81c.8-.78.8-2.07 0-2.86zM5.41 20L4 18.59l7.72-7.72 1.47 1.35L5.41 20z\"/>\n",
              "  </svg>\n",
              "      </button>\n",
              "      \n",
              "  <style>\n",
              "    .colab-df-container {\n",
              "      display:flex;\n",
              "      flex-wrap:wrap;\n",
              "      gap: 12px;\n",
              "    }\n",
              "\n",
              "    .colab-df-convert {\n",
              "      background-color: #E8F0FE;\n",
              "      border: none;\n",
              "      border-radius: 50%;\n",
              "      cursor: pointer;\n",
              "      display: none;\n",
              "      fill: #1967D2;\n",
              "      height: 32px;\n",
              "      padding: 0 0 0 0;\n",
              "      width: 32px;\n",
              "    }\n",
              "\n",
              "    .colab-df-convert:hover {\n",
              "      background-color: #E2EBFA;\n",
              "      box-shadow: 0px 1px 2px rgba(60, 64, 67, 0.3), 0px 1px 3px 1px rgba(60, 64, 67, 0.15);\n",
              "      fill: #174EA6;\n",
              "    }\n",
              "\n",
              "    [theme=dark] .colab-df-convert {\n",
              "      background-color: #3B4455;\n",
              "      fill: #D2E3FC;\n",
              "    }\n",
              "\n",
              "    [theme=dark] .colab-df-convert:hover {\n",
              "      background-color: #434B5C;\n",
              "      box-shadow: 0px 1px 3px 1px rgba(0, 0, 0, 0.15);\n",
              "      filter: drop-shadow(0px 1px 2px rgba(0, 0, 0, 0.3));\n",
              "      fill: #FFFFFF;\n",
              "    }\n",
              "  </style>\n",
              "\n",
              "      <script>\n",
              "        const buttonEl =\n",
              "          document.querySelector('#df-975e6756-dbd8-4f48-9b5a-88f823a8c186 button.colab-df-convert');\n",
              "        buttonEl.style.display =\n",
              "          google.colab.kernel.accessAllowed ? 'block' : 'none';\n",
              "\n",
              "        async function convertToInteractive(key) {\n",
              "          const element = document.querySelector('#df-975e6756-dbd8-4f48-9b5a-88f823a8c186');\n",
              "          const dataTable =\n",
              "            await google.colab.kernel.invokeFunction('convertToInteractive',\n",
              "                                                     [key], {});\n",
              "          if (!dataTable) return;\n",
              "\n",
              "          const docLinkHtml = 'Like what you see? Visit the ' +\n",
              "            '<a target=\"_blank\" href=https://colab.research.google.com/notebooks/data_table.ipynb>data table notebook</a>'\n",
              "            + ' to learn more about interactive tables.';\n",
              "          element.innerHTML = '';\n",
              "          dataTable['output_type'] = 'display_data';\n",
              "          await google.colab.output.renderOutput(dataTable, element);\n",
              "          const docLink = document.createElement('div');\n",
              "          docLink.innerHTML = docLinkHtml;\n",
              "          element.appendChild(docLink);\n",
              "        }\n",
              "      </script>\n",
              "    </div>\n",
              "  </div>\n",
              "  "
            ],
            "text/plain": [
              "       Self_Study_Daily  Tutorials_Monthly  Pass_Or_Fail\n",
              "count       1000.000000        1000.000000   1000.000000\n",
              "mean           5.744000          31.230000      0.499000\n",
              "std            2.121076           5.976355      0.500249\n",
              "min            0.000000          20.000000      0.000000\n",
              "25%            4.000000          26.000000      0.000000\n",
              "50%            6.000000          30.000000      0.000000\n",
              "75%            7.000000          36.000000      1.000000\n",
              "max           10.000000          50.000000      1.000000"
            ]
          },
          "metadata": {},
          "execution_count": 3
        }
      ]
    },
    {
      "cell_type": "markdown",
      "source": [
        "#### checking size"
      ],
      "metadata": {
        "id": "3WfSj7j80hou"
      }
    },
    {
      "cell_type": "code",
      "source": [
        "dfspf.groupby('Pass_Or_Fail').size()"
      ],
      "metadata": {
        "colab": {
          "base_uri": "https://localhost:8080/"
        },
        "id": "NzRgzF6_0co5",
        "outputId": "0d829324-bd48-4281-c698-c2c1f2907c80"
      },
      "execution_count": null,
      "outputs": [
        {
          "output_type": "execute_result",
          "data": {
            "text/plain": [
              "Pass_Or_Fail\n",
              "0    501\n",
              "1    499\n",
              "dtype: int64"
            ]
          },
          "metadata": {},
          "execution_count": 4
        }
      ]
    },
    {
      "cell_type": "markdown",
      "source": [
        "#### Data Visualize "
      ],
      "metadata": {
        "id": "ezKcSHkq05tG"
      }
    },
    {
      "cell_type": "code",
      "source": [
        "dfspf['Tutorials_Monthly'].hist()"
      ],
      "metadata": {
        "colab": {
          "base_uri": "https://localhost:8080/",
          "height": 283
        },
        "id": "MaVs22wQ0g1n",
        "outputId": "a47a9882-ce61-42a9-f2ff-972e0f020789"
      },
      "execution_count": null,
      "outputs": [
        {
          "output_type": "execute_result",
          "data": {
            "text/plain": [
              "<matplotlib.axes._subplots.AxesSubplot at 0x7fad955b2750>"
            ]
          },
          "metadata": {},
          "execution_count": 6
        },
        {
          "output_type": "display_data",
          "data": {
            "image/png": "[encoded data removed]",
            "text/plain": [
              "<Figure size 432x288 with 1 Axes>"
            ]
          },
          "metadata": {
            "needs_background": "light"
          }
        }
      ]
    },
    {
      "cell_type": "code",
      "source": [
        "from pandas.plotting import scatter_matrix\n",
        "import matplotlib.pyplot as plt\n",
        "scatter_matrix(dfspf)\n",
        "plt.show()"
      ],
      "metadata": {
        "colab": {
          "base_uri": "https://localhost:8080/",
          "height": 288
        },
        "id": "blsmDcQ81C0b",
        "outputId": "3c634806-00e2-4fb7-8cb1-e1a3f8c1f00b"
      },
      "execution_count": null,
      "outputs": [
        {
          "output_type": "display_data",
          "data": {
            "image/png": "[encoded data removed]",
            "text/plain": [
              "<Figure size 432x288 with 9 Axes>"
            ]
          },
          "metadata": {
            "needs_background": "light"
          }
        }
      ]
    },
    {
      "cell_type": "markdown",
      "source": [
        "### See the Project sheet [Online Doc File for Project details](https://docs.google.com/spreadsheets/d/1Vx4Ka94CVcVbNgMlBRUZQzuWEmsspP1rdCoXFV3lcZg/edit?usp=sharing)"
      ],
      "metadata": {
        "id": "NtjcIC8Rfs8p"
      }
    },
    {
      "cell_type": "markdown",
      "source": [
        "### Machine Learning  ( using Regression )"
      ],
      "metadata": {
        "id": "c9RHE9js17FV"
      }
    },
    {
      "cell_type": "markdown",
      "source": [
        "\n",
        "\n",
        "*   data available has pass labeled as 1 and fail labeled as 0\n",
        "*   output is numeric\n",
        "\n"
      ],
      "metadata": {
        "id": "wfw7IJL0DIdD"
      }
    },
    {
      "cell_type": "markdown",
      "source": [
        "#### divide data into feature_matrix (X) and target_matrix(Y)"
      ],
      "metadata": {
        "id": "S5PNpZds19Ob"
      }
    },
    {
      "cell_type": "code",
      "source": [
        "# all rows of first and second column \n",
        "# convert the dataframe into numeric array \n",
        "df1 = dfspf.values\n",
        "# feature matrix m x n\n",
        "X = df1[:,0:2]\n",
        "# target matrix m x 1\n",
        "Y = df1[:,2]"
      ],
      "metadata": {
        "id": "-hbka0Mc1_2X"
      },
      "execution_count": null,
      "outputs": []
    },
    {
      "cell_type": "code",
      "source": [
        "print (X.shape , Y.shape)"
      ],
      "metadata": {
        "colab": {
          "base_uri": "https://localhost:8080/"
        },
        "id": "rYNBvSY12Cnx",
        "outputId": "d19fd19f-4e26-4f0c-e5b1-a7349fa55ffb"
      },
      "execution_count": null,
      "outputs": [
        {
          "output_type": "stream",
          "name": "stdout",
          "text": [
            "(1000, 2) (1000,)\n"
          ]
        }
      ]
    },
    {
      "cell_type": "markdown",
      "source": [
        "#### Choose model (Linear Regression - student pass fail)"
      ],
      "metadata": {
        "id": "v4c2gbeG3eOj"
      }
    },
    {
      "cell_type": "code",
      "source": [
        "from  sklearn.linear_model import LinearRegression \n",
        "# while creating object of LinearRegression we select paramter in the object creation \n",
        "# which is known as hyperparameter\n",
        "model = LinearRegression ()\n",
        "# LinearRegression(*, fit_intercept=True, normalize=\"deprecated\", copy_X=True, n_jobs=None, positive=False) "
      ],
      "metadata": {
        "id": "MptDfmjT3F6T"
      },
      "execution_count": null,
      "outputs": []
    },
    {
      "cell_type": "code",
      "source": [
        "# fit the data so as to create model \n",
        "model.fit( X , Y )"
      ],
      "metadata": {
        "colab": {
          "base_uri": "https://localhost:8080/"
        },
        "id": "hqZii_hF3n4J",
        "outputId": "9368b54d-4baa-4f08-d6d2-a7e359601641"
      },
      "execution_count": null,
      "outputs": [
        {
          "output_type": "execute_result",
          "data": {
            "text/plain": [
              "LinearRegression()"
            ]
          },
          "metadata": {},
          "execution_count": 6
        }
      ]
    },
    {
      "cell_type": "code",
      "source": [
        "# model is used for prediction \n",
        "model.predict([[7,27]] )"
      ],
      "metadata": {
        "colab": {
          "base_uri": "https://localhost:8080/"
        },
        "id": "xo0sC_IY4BNJ",
        "outputId": "5990a4c4-9fcd-470f-e82e-a7b1d218a6d0"
      },
      "execution_count": null,
      "outputs": [
        {
          "output_type": "execute_result",
          "data": {
            "text/plain": [
              "array([0.7907862])"
            ]
          },
          "metadata": {},
          "execution_count": 7
        }
      ]
    },
    {
      "cell_type": "code",
      "source": [
        "result = model.predict([[7,27]] )\n",
        "print (result[0]*100 , \"%\")"
      ],
      "metadata": {
        "colab": {
          "base_uri": "https://localhost:8080/"
        },
        "id": "mj7C5RD54-GJ",
        "outputId": "dda906aa-1dde-4195-f9a8-98a7f6405798"
      },
      "execution_count": null,
      "outputs": [
        {
          "output_type": "stream",
          "name": "stdout",
          "text": [
            "79.07862018051115 %\n"
          ]
        }
      ]
    },
    {
      "cell_type": "code",
      "source": [
        "result = model.predict([[5,23]] )\n",
        "print (result[0]*100 , \"%\")"
      ],
      "metadata": {
        "colab": {
          "base_uri": "https://localhost:8080/"
        },
        "id": "cj6AJYfj5BlX",
        "outputId": "dc88b7a1-a180-49d0-91d4-7146d8c000c2"
      },
      "execution_count": null,
      "outputs": [
        {
          "output_type": "stream",
          "name": "stdout",
          "text": [
            "70.360883321341 %\n"
          ]
        }
      ]
    },
    {
      "cell_type": "code",
      "source": [
        "a = eval(input(\"Hours of self study \"))\n",
        "b = eval(input(\"hours on tutorials \"))\n",
        "result = model.predict([[a,b]] )\n",
        "print (result[0]*100 , \"% probability of passing \")"
      ],
      "metadata": {
        "colab": {
          "base_uri": "https://localhost:8080/"
        },
        "id": "EcywpQ2x5Uax",
        "outputId": "0075ac85-1563-4bec-b707-e6b3fb4cbe04"
      },
      "execution_count": null,
      "outputs": [
        {
          "output_type": "stream",
          "name": "stdout",
          "text": [
            "Hours of self study 5\n",
            "hours on tutorials 25\n",
            "63.32917717095468 % probability of passing \n"
          ]
        }
      ]
    },
    {
      "cell_type": "markdown",
      "source": [
        "### Machine Learning  ( using Classification - IRIS dataset)"
      ],
      "metadata": {
        "id": "RL3_AhpY2in8"
      }
    },
    {
      "cell_type": "markdown",
      "source": [
        "*  data has labels in text form\n",
        "*  the output is type of flower/ name of flower. or simply text"
      ],
      "metadata": {
        "id": "968lUXL9Dcg5"
      }
    },
    {
      "cell_type": "code",
      "source": [
        "import pandas as pd\n",
        "url =\"https://raw.githubusercontent.com/sarwansingh/Python/master/ClassExamples/data/iris.csv\"\n",
        "nameslist = ['SepalLength', 'SepalWidth', 'PetalLength', 'PetalWidth', 'Species']\n",
        "dfIris =  pd.read_csv(url, header=None, names=nameslist)\n",
        "dfIris  "
      ],
      "metadata": {
        "id": "ltWfDB325w0i",
        "colab": {
          "base_uri": "https://localhost:8080/",
          "height": 423
        },
        "outputId": "aa958928-e640-4141-cecd-84d8865c2f56"
      },
      "execution_count": null,
      "outputs": [
        {
          "output_type": "execute_result",
          "data": {
            "text/plain": [
              "     SepalLength  SepalWidth  PetalLength  PetalWidth         Species\n",
              "0            5.1         3.5          1.4         0.2     Iris-setosa\n",
              "1            4.9         3.0          1.4         0.2     Iris-setosa\n",
              "2            4.7         3.2          1.3         0.2     Iris-setosa\n",
              "3            4.6         3.1          1.5         0.2     Iris-setosa\n",
              "4            5.0         3.6          1.4         0.2     Iris-setosa\n",
              "..           ...         ...          ...         ...             ...\n",
              "145          6.7         3.0          5.2         2.3  Iris-virginica\n",
              "146          6.3         2.5          5.0         1.9  Iris-virginica\n",
              "147          6.5         3.0          5.2         2.0  Iris-virginica\n",
              "148          6.2         3.4          5.4         2.3  Iris-virginica\n",
              "149          5.9         3.0          5.1         1.8  Iris-virginica\n",
              "\n",
              "[150 rows x 5 columns]"
            ],
            "text/html": [
              "\n",
              "  <div id=\"df-f00c5789-f1bd-4fa6-9f14-685c7d192a71\">\n",
              "    <div class=\"colab-df-container\">\n",
              "      <div>\n",
              "<style scoped>\n",
              "    .dataframe tbody tr th:only-of-type {\n",
              "        vertical-align: middle;\n",
              "    }\n",
              "\n",
              "    .dataframe tbody tr th {\n",
              "        vertical-align: top;\n",
              "    }\n",
              "\n",
              "    .dataframe thead th {\n",
              "        text-align: right;\n",
              "    }\n",
              "</style>\n",
              "<table border=\"1\" class=\"dataframe\">\n",
              "  <thead>\n",
              "    <tr style=\"text-align: right;\">\n",
              "      <th></th>\n",
              "      <th>SepalLength</th>\n",
              "      <th>SepalWidth</th>\n",
              "      <th>PetalLength</th>\n",
              "      <th>PetalWidth</th>\n",
              "      <th>Species</th>\n",
              "    </tr>\n",
              "  </thead>\n",
              "  <tbody>\n",
              "    <tr>\n",
              "      <th>0</th>\n",
              "      <td>5.1</td>\n",
              "      <td>3.5</td>\n",
              "      <td>1.4</td>\n",
              "      <td>0.2</td>\n",
              "      <td>Iris-setosa</td>\n",
              "    </tr>\n",
              "    <tr>\n",
              "      <th>1</th>\n",
              "      <td>4.9</td>\n",
              "      <td>3.0</td>\n",
              "      <td>1.4</td>\n",
              "      <td>0.2</td>\n",
              "      <td>Iris-setosa</td>\n",
              "    </tr>\n",
              "    <tr>\n",
              "      <th>2</th>\n",
              "      <td>4.7</td>\n",
              "      <td>3.2</td>\n",
              "      <td>1.3</td>\n",
              "      <td>0.2</td>\n",
              "      <td>Iris-setosa</td>\n",
              "    </tr>\n",
              "    <tr>\n",
              "      <th>3</th>\n",
              "      <td>4.6</td>\n",
              "      <td>3.1</td>\n",
              "      <td>1.5</td>\n",
              "      <td>0.2</td>\n",
              "      <td>Iris-setosa</td>\n",
              "    </tr>\n",
              "    <tr>\n",
              "      <th>4</th>\n",
              "      <td>5.0</td>\n",
              "      <td>3.6</td>\n",
              "      <td>1.4</td>\n",
              "      <td>0.2</td>\n",
              "      <td>Iris-setosa</td>\n",
              "    </tr>\n",
              "    <tr>\n",
              "      <th>...</th>\n",
              "      <td>...</td>\n",
              "      <td>...</td>\n",
              "      <td>...</td>\n",
              "      <td>...</td>\n",
              "      <td>...</td>\n",
              "    </tr>\n",
              "    <tr>\n",
              "      <th>145</th>\n",
              "      <td>6.7</td>\n",
              "      <td>3.0</td>\n",
              "      <td>5.2</td>\n",
              "      <td>2.3</td>\n",
              "      <td>Iris-virginica</td>\n",
              "    </tr>\n",
              "    <tr>\n",
              "      <th>146</th>\n",
              "      <td>6.3</td>\n",
              "      <td>2.5</td>\n",
              "      <td>5.0</td>\n",
              "      <td>1.9</td>\n",
              "      <td>Iris-virginica</td>\n",
              "    </tr>\n",
              "    <tr>\n",
              "      <th>147</th>\n",
              "      <td>6.5</td>\n",
              "      <td>3.0</td>\n",
              "      <td>5.2</td>\n",
              "      <td>2.0</td>\n",
              "      <td>Iris-virginica</td>\n",
              "    </tr>\n",
              "    <tr>\n",
              "      <th>148</th>\n",
              "      <td>6.2</td>\n",
              "      <td>3.4</td>\n",
              "      <td>5.4</td>\n",
              "      <td>2.3</td>\n",
              "      <td>Iris-virginica</td>\n",
              "    </tr>\n",
              "    <tr>\n",
              "      <th>149</th>\n",
              "      <td>5.9</td>\n",
              "      <td>3.0</td>\n",
              "      <td>5.1</td>\n",
              "      <td>1.8</td>\n",
              "      <td>Iris-virginica</td>\n",
              "    </tr>\n",
              "  </tbody>\n",
              "</table>\n",
              "<p>150 rows × 5 columns</p>\n",
              "</div>\n",
              "      <button class=\"colab-df-convert\" onclick=\"convertToInteractive('df-f00c5789-f1bd-4fa6-9f14-685c7d192a71')\"\n",
              "              title=\"Convert this dataframe to an interactive table.\"\n",
              "              style=\"display:none;\">\n",
              "        \n",
              "  <svg xmlns=\"http://www.w3.org/2000/svg\" height=\"24px\"viewBox=\"0 0 24 24\"\n",
              "       width=\"24px\">\n",
              "    <path d=\"M0 0h24v24H0V0z\" fill=\"none\"/>\n",
              "    <path d=\"M18.56 5.44l.94 2.06.94-2.06 2.06-.94-2.06-.94-.94-2.06-.94 2.06-2.06.94zm-11 1L8.5 8.5l.94-2.06 2.06-.94-2.06-.94L8.5 2.5l-.94 2.06-2.06.94zm10 10l.94 2.06.94-2.06 2.06-.94-2.06-.94-.94-2.06-.94 2.06-2.06.94z\"/><path d=\"M17.41 7.96l-1.37-1.37c-.4-.4-.92-.59-1.43-.59-.52 0-1.04.2-1.43.59L10.3 9.45l-7.72 7.72c-.78.78-.78 2.05 0 2.83L4 21.41c.39.39.9.59 1.41.59.51 0 1.02-.2 1.41-.59l7.78-7.78 2.81-2.81c.8-.78.8-2.07 0-2.86zM5.41 20L4 18.59l7.72-7.72 1.47 1.35L5.41 20z\"/>\n",
              "  </svg>\n",
              "      </button>\n",
              "      \n",
              "  <style>\n",
              "    .colab-df-container {\n",
              "      display:flex;\n",
              "      flex-wrap:wrap;\n",
              "      gap: 12px;\n",
              "    }\n",
              "\n",
              "    .colab-df-convert {\n",
              "      background-color: #E8F0FE;\n",
              "      border: none;\n",
              "      border-radius: 50%;\n",
              "      cursor: pointer;\n",
              "      display: none;\n",
              "      fill: #1967D2;\n",
              "      height: 32px;\n",
              "      padding: 0 0 0 0;\n",
              "      width: 32px;\n",
              "    }\n",
              "\n",
              "    .colab-df-convert:hover {\n",
              "      background-color: #E2EBFA;\n",
              "      box-shadow: 0px 1px 2px rgba(60, 64, 67, 0.3), 0px 1px 3px 1px rgba(60, 64, 67, 0.15);\n",
              "      fill: #174EA6;\n",
              "    }\n",
              "\n",
              "    [theme=dark] .colab-df-convert {\n",
              "      background-color: #3B4455;\n",
              "      fill: #D2E3FC;\n",
              "    }\n",
              "\n",
              "    [theme=dark] .colab-df-convert:hover {\n",
              "      background-color: #434B5C;\n",
              "      box-shadow: 0px 1px 3px 1px rgba(0, 0, 0, 0.15);\n",
              "      filter: drop-shadow(0px 1px 2px rgba(0, 0, 0, 0.3));\n",
              "      fill: #FFFFFF;\n",
              "    }\n",
              "  </style>\n",
              "\n",
              "      <script>\n",
              "        const buttonEl =\n",
              "          document.querySelector('#df-f00c5789-f1bd-4fa6-9f14-685c7d192a71 button.colab-df-convert');\n",
              "        buttonEl.style.display =\n",
              "          google.colab.kernel.accessAllowed ? 'block' : 'none';\n",
              "\n",
              "        async function convertToInteractive(key) {\n",
              "          const element = document.querySelector('#df-f00c5789-f1bd-4fa6-9f14-685c7d192a71');\n",
              "          const dataTable =\n",
              "            await google.colab.kernel.invokeFunction('convertToInteractive',\n",
              "                                                     [key], {});\n",
              "          if (!dataTable) return;\n",
              "\n",
              "          const docLinkHtml = 'Like what you see? Visit the ' +\n",
              "            '<a target=\"_blank\" href=https://colab.research.google.com/notebooks/data_table.ipynb>data table notebook</a>'\n",
              "            + ' to learn more about interactive tables.';\n",
              "          element.innerHTML = '';\n",
              "          dataTable['output_type'] = 'display_data';\n",
              "          await google.colab.output.renderOutput(dataTable, element);\n",
              "          const docLink = document.createElement('div');\n",
              "          docLink.innerHTML = docLinkHtml;\n",
              "          element.appendChild(docLink);\n",
              "        }\n",
              "      </script>\n",
              "    </div>\n",
              "  </div>\n",
              "  "
            ]
          },
          "metadata": {},
          "execution_count": 3
        }
      ]
    },
    {
      "cell_type": "markdown",
      "source": [
        "#### Describe data"
      ],
      "metadata": {
        "id": "AmBmUu023S8z"
      }
    },
    {
      "cell_type": "code",
      "source": [
        "dfIris.describe()"
      ],
      "metadata": {
        "colab": {
          "base_uri": "https://localhost:8080/",
          "height": 300
        },
        "id": "x4wdWXVU2zl2",
        "outputId": "a5c459f7-f13f-4c70-fa1a-255142c48cee"
      },
      "execution_count": null,
      "outputs": [
        {
          "output_type": "execute_result",
          "data": {
            "text/plain": [
              "       SepalLength  SepalWidth  PetalLength  PetalWidth\n",
              "count   150.000000  150.000000   150.000000  150.000000\n",
              "mean      5.843333    3.054000     3.758667    1.198667\n",
              "std       0.828066    0.433594     1.764420    0.763161\n",
              "min       4.300000    2.000000     1.000000    0.100000\n",
              "25%       5.100000    2.800000     1.600000    0.300000\n",
              "50%       5.800000    3.000000     4.350000    1.300000\n",
              "75%       6.400000    3.300000     5.100000    1.800000\n",
              "max       7.900000    4.400000     6.900000    2.500000"
            ],
            "text/html": [
              "\n",
              "  <div id=\"df-5ca3dcb7-c865-47c2-8f07-3275701ca7c4\">\n",
              "    <div class=\"colab-df-container\">\n",
              "      <div>\n",
              "<style scoped>\n",
              "    .dataframe tbody tr th:only-of-type {\n",
              "        vertical-align: middle;\n",
              "    }\n",
              "\n",
              "    .dataframe tbody tr th {\n",
              "        vertical-align: top;\n",
              "    }\n",
              "\n",
              "    .dataframe thead th {\n",
              "        text-align: right;\n",
              "    }\n",
              "</style>\n",
              "<table border=\"1\" class=\"dataframe\">\n",
              "  <thead>\n",
              "    <tr style=\"text-align: right;\">\n",
              "      <th></th>\n",
              "      <th>SepalLength</th>\n",
              "      <th>SepalWidth</th>\n",
              "      <th>PetalLength</th>\n",
              "      <th>PetalWidth</th>\n",
              "    </tr>\n",
              "  </thead>\n",
              "  <tbody>\n",
              "    <tr>\n",
              "      <th>count</th>\n",
              "      <td>150.000000</td>\n",
              "      <td>150.000000</td>\n",
              "      <td>150.000000</td>\n",
              "      <td>150.000000</td>\n",
              "    </tr>\n",
              "    <tr>\n",
              "      <th>mean</th>\n",
              "      <td>5.843333</td>\n",
              "      <td>3.054000</td>\n",
              "      <td>3.758667</td>\n",
              "      <td>1.198667</td>\n",
              "    </tr>\n",
              "    <tr>\n",
              "      <th>std</th>\n",
              "      <td>0.828066</td>\n",
              "      <td>0.433594</td>\n",
              "      <td>1.764420</td>\n",
              "      <td>0.763161</td>\n",
              "    </tr>\n",
              "    <tr>\n",
              "      <th>min</th>\n",
              "      <td>4.300000</td>\n",
              "      <td>2.000000</td>\n",
              "      <td>1.000000</td>\n",
              "      <td>0.100000</td>\n",
              "    </tr>\n",
              "    <tr>\n",
              "      <th>25%</th>\n",
              "      <td>5.100000</td>\n",
              "      <td>2.800000</td>\n",
              "      <td>1.600000</td>\n",
              "      <td>0.300000</td>\n",
              "    </tr>\n",
              "    <tr>\n",
              "      <th>50%</th>\n",
              "      <td>5.800000</td>\n",
              "      <td>3.000000</td>\n",
              "      <td>4.350000</td>\n",
              "      <td>1.300000</td>\n",
              "    </tr>\n",
              "    <tr>\n",
              "      <th>75%</th>\n",
              "      <td>6.400000</td>\n",
              "      <td>3.300000</td>\n",
              "      <td>5.100000</td>\n",
              "      <td>1.800000</td>\n",
              "    </tr>\n",
              "    <tr>\n",
              "      <th>max</th>\n",
              "      <td>7.900000</td>\n",
              "      <td>4.400000</td>\n",
              "      <td>6.900000</td>\n",
              "      <td>2.500000</td>\n",
              "    </tr>\n",
              "  </tbody>\n",
              "</table>\n",
              "</div>\n",
              "      <button class=\"colab-df-convert\" onclick=\"convertToInteractive('df-5ca3dcb7-c865-47c2-8f07-3275701ca7c4')\"\n",
              "              title=\"Convert this dataframe to an interactive table.\"\n",
              "              style=\"display:none;\">\n",
              "        \n",
              "  <svg xmlns=\"http://www.w3.org/2000/svg\" height=\"24px\"viewBox=\"0 0 24 24\"\n",
              "       width=\"24px\">\n",
              "    <path d=\"M0 0h24v24H0V0z\" fill=\"none\"/>\n",
              "    <path d=\"M18.56 5.44l.94 2.06.94-2.06 2.06-.94-2.06-.94-.94-2.06-.94 2.06-2.06.94zm-11 1L8.5 8.5l.94-2.06 2.06-.94-2.06-.94L8.5 2.5l-.94 2.06-2.06.94zm10 10l.94 2.06.94-2.06 2.06-.94-2.06-.94-.94-2.06-.94 2.06-2.06.94z\"/><path d=\"M17.41 7.96l-1.37-1.37c-.4-.4-.92-.59-1.43-.59-.52 0-1.04.2-1.43.59L10.3 9.45l-7.72 7.72c-.78.78-.78 2.05 0 2.83L4 21.41c.39.39.9.59 1.41.59.51 0 1.02-.2 1.41-.59l7.78-7.78 2.81-2.81c.8-.78.8-2.07 0-2.86zM5.41 20L4 18.59l7.72-7.72 1.47 1.35L5.41 20z\"/>\n",
              "  </svg>\n",
              "      </button>\n",
              "      \n",
              "  <style>\n",
              "    .colab-df-container {\n",
              "      display:flex;\n",
              "      flex-wrap:wrap;\n",
              "      gap: 12px;\n",
              "    }\n",
              "\n",
              "    .colab-df-convert {\n",
              "      background-color: #E8F0FE;\n",
              "      border: none;\n",
              "      border-radius: 50%;\n",
              "      cursor: pointer;\n",
              "      display: none;\n",
              "      fill: #1967D2;\n",
              "      height: 32px;\n",
              "      padding: 0 0 0 0;\n",
              "      width: 32px;\n",
              "    }\n",
              "\n",
              "    .colab-df-convert:hover {\n",
              "      background-color: #E2EBFA;\n",
              "      box-shadow: 0px 1px 2px rgba(60, 64, 67, 0.3), 0px 1px 3px 1px rgba(60, 64, 67, 0.15);\n",
              "      fill: #174EA6;\n",
              "    }\n",
              "\n",
              "    [theme=dark] .colab-df-convert {\n",
              "      background-color: #3B4455;\n",
              "      fill: #D2E3FC;\n",
              "    }\n",
              "\n",
              "    [theme=dark] .colab-df-convert:hover {\n",
              "      background-color: #434B5C;\n",
              "      box-shadow: 0px 1px 3px 1px rgba(0, 0, 0, 0.15);\n",
              "      filter: drop-shadow(0px 1px 2px rgba(0, 0, 0, 0.3));\n",
              "      fill: #FFFFFF;\n",
              "    }\n",
              "  </style>\n",
              "\n",
              "      <script>\n",
              "        const buttonEl =\n",
              "          document.querySelector('#df-5ca3dcb7-c865-47c2-8f07-3275701ca7c4 button.colab-df-convert');\n",
              "        buttonEl.style.display =\n",
              "          google.colab.kernel.accessAllowed ? 'block' : 'none';\n",
              "\n",
              "        async function convertToInteractive(key) {\n",
              "          const element = document.querySelector('#df-5ca3dcb7-c865-47c2-8f07-3275701ca7c4');\n",
              "          const dataTable =\n",
              "            await google.colab.kernel.invokeFunction('convertToInteractive',\n",
              "                                                     [key], {});\n",
              "          if (!dataTable) return;\n",
              "\n",
              "          const docLinkHtml = 'Like what you see? Visit the ' +\n",
              "            '<a target=\"_blank\" href=https://colab.research.google.com/notebooks/data_table.ipynb>data table notebook</a>'\n",
              "            + ' to learn more about interactive tables.';\n",
              "          element.innerHTML = '';\n",
              "          dataTable['output_type'] = 'display_data';\n",
              "          await google.colab.output.renderOutput(dataTable, element);\n",
              "          const docLink = document.createElement('div');\n",
              "          docLink.innerHTML = docLinkHtml;\n",
              "          element.appendChild(docLink);\n",
              "        }\n",
              "      </script>\n",
              "    </div>\n",
              "  </div>\n",
              "  "
            ]
          },
          "metadata": {},
          "execution_count": 4
        }
      ]
    },
    {
      "cell_type": "code",
      "source": [
        "dfIris.info()"
      ],
      "metadata": {
        "colab": {
          "base_uri": "https://localhost:8080/"
        },
        "id": "zzk1cDUW3YOM",
        "outputId": "931872e7-9ca0-4227-f134-226815953686"
      },
      "execution_count": null,
      "outputs": [
        {
          "output_type": "stream",
          "name": "stdout",
          "text": [
            "<class 'pandas.core.frame.DataFrame'>\n",
            "RangeIndex: 150 entries, 0 to 149\n",
            "Data columns (total 5 columns):\n",
            " #   Column       Non-Null Count  Dtype  \n",
            "---  ------       --------------  -----  \n",
            " 0   SepalLength  150 non-null    float64\n",
            " 1   SepalWidth   150 non-null    float64\n",
            " 2   PetalLength  150 non-null    float64\n",
            " 3   PetalWidth   150 non-null    float64\n",
            " 4   Species      150 non-null    object \n",
            "dtypes: float64(4), object(1)\n",
            "memory usage: 6.0+ KB\n"
          ]
        }
      ]
    },
    {
      "cell_type": "markdown",
      "source": [
        "#### Visualize data"
      ],
      "metadata": {
        "id": "my9HrwMR3be6"
      }
    },
    {
      "cell_type": "code",
      "source": [
        "dfIris.groupby('Species').size()"
      ],
      "metadata": {
        "colab": {
          "base_uri": "https://localhost:8080/"
        },
        "id": "eA0sUmr73aNm",
        "outputId": "0ff2702e-8547-441d-bf59-2fa9b961a599"
      },
      "execution_count": null,
      "outputs": [
        {
          "output_type": "execute_result",
          "data": {
            "text/plain": [
              "Species\n",
              "Iris-setosa        50\n",
              "Iris-versicolor    50\n",
              "Iris-virginica     50\n",
              "dtype: int64"
            ]
          },
          "metadata": {},
          "execution_count": 18
        }
      ]
    },
    {
      "cell_type": "code",
      "source": [
        "dfIris['SepalLength'].hist()"
      ],
      "metadata": {
        "colab": {
          "base_uri": "https://localhost:8080/",
          "height": 283
        },
        "id": "YSChzajW3lSe",
        "outputId": "93f0a7cd-f2ba-4bd3-a850-59efe06d5aaa"
      },
      "execution_count": null,
      "outputs": [
        {
          "output_type": "execute_result",
          "data": {
            "text/plain": [
              "<matplotlib.axes._subplots.AxesSubplot at 0x7f5f88ab8c50>"
            ]
          },
          "metadata": {},
          "execution_count": 19
        },
        {
          "output_type": "display_data",
          "data": {
            "image/png": "[encoded data removed]",
            "text/plain": [
              "<Figure size 432x288 with 1 Axes>"
            ]
          },
          "metadata": {
            "needs_background": "light"
          }
        }
      ]
    },
    {
      "cell_type": "code",
      "source": [
        "# scatter chart\n",
        "from pandas.plotting import scatter_matrix\n",
        "import matplotlib.pyplot as plt\n",
        "scatter_matrix(dfIris)\n",
        "plt.show()"
      ],
      "metadata": {
        "colab": {
          "base_uri": "https://localhost:8080/",
          "height": 286
        },
        "id": "kPU1cUlz3wA1",
        "outputId": "1b9674dc-52de-4d26-aac3-ad311a258868"
      },
      "execution_count": null,
      "outputs": [
        {
          "output_type": "display_data",
          "data": {
            "image/png": "[encoded data removed]",
            "text/plain": [
              "<Figure size 432x288 with 16 Axes>"
            ]
          },
          "metadata": {
            "needs_background": "light"
          }
        }
      ]
    },
    {
      "cell_type": "code",
      "source": [
        "# scatter matrix with seaborn \n",
        "import seaborn as sns\n",
        "sns.set_theme(style=\"ticks\")\n",
        "sns.pairplot(dfIris,hue = 'Species')"
      ],
      "metadata": {
        "colab": {
          "base_uri": "https://localhost:8080/",
          "height": 741
        },
        "id": "6rlRLVmy4OIC",
        "outputId": "b066fc17-0155-4141-96d3-bd559c4a410c"
      },
      "execution_count": null,
      "outputs": [
        {
          "output_type": "execute_result",
          "data": {
            "text/plain": [
              "<seaborn.axisgrid.PairGrid at 0x7f5f88529d90>"
            ]
          },
          "metadata": {},
          "execution_count": 23
        },
        {
          "output_type": "display_data",
          "data": {
            "image/png": "[encoded data removed]",
            "text/plain": [
              "<Figure size 834.35x720 with 20 Axes>"
            ]
          },
          "metadata": {}
        }
      ]
    },
    {
      "cell_type": "code",
      "source": [
        "dfIris.hist()\n",
        "plt.show()"
      ],
      "metadata": {
        "colab": {
          "base_uri": "https://localhost:8080/",
          "height": 284
        },
        "id": "wMT3JXyK44tn",
        "outputId": "5ac6a421-670c-44fe-fad3-00c0b82f8475"
      },
      "execution_count": null,
      "outputs": [
        {
          "output_type": "display_data",
          "data": {
            "image/png": "[encoded data removed]",
            "text/plain": [
              "<Figure size 432x288 with 4 Axes>"
            ]
          },
          "metadata": {}
        }
      ]
    },
    {
      "cell_type": "code",
      "source": [
        "dfIris.plot()\n",
        "plt.show()"
      ],
      "metadata": {
        "colab": {
          "base_uri": "https://localhost:8080/",
          "height": 268
        },
        "id": "o9NKazG67GxO",
        "outputId": "8d9ce49e-7a05-4c63-afef-21727d030e22"
      },
      "execution_count": null,
      "outputs": [
        {
          "output_type": "display_data",
          "data": {
            "image/png": "[encoded data removed]",
            "text/plain": [
              "<Figure size 432x288 with 1 Axes>"
            ]
          },
          "metadata": {}
        }
      ]
    },
    {
      "cell_type": "code",
      "source": [
        "dfIris.plot(kind='box')\n",
        "plt.show()"
      ],
      "metadata": {
        "colab": {
          "base_uri": "https://localhost:8080/",
          "height": 268
        },
        "id": "oh9mHqdn7YE1",
        "outputId": "a10987d7-d591-4f3e-d52c-327ea3d5c0b5"
      },
      "execution_count": null,
      "outputs": [
        {
          "output_type": "display_data",
          "data": {
            "image/png": "[encoded data removed]",
            "text/plain": [
              "<Figure size 432x288 with 1 Axes>"
            ]
          },
          "metadata": {}
        }
      ]
    },
    {
      "cell_type": "code",
      "source": [
        "dfIris.plot(kind='box' , subplots=True, layout=(2,2))\n",
        "plt.show()"
      ],
      "metadata": {
        "colab": {
          "base_uri": "https://localhost:8080/",
          "height": 270
        },
        "id": "Zg-ruhgM7YHm",
        "outputId": "6d5eae3f-31e3-4b93-936c-5f5718fbef9c"
      },
      "execution_count": null,
      "outputs": [
        {
          "output_type": "display_data",
          "data": {
            "image/png": "[encoded data removed]",
            "text/plain": [
              "<Figure size 432x288 with 4 Axes>"
            ]
          },
          "metadata": {}
        }
      ]
    },
    {
      "cell_type": "code",
      "source": [
        ""
      ],
      "metadata": {
        "id": "oraCXRiS7G0E"
      },
      "execution_count": null,
      "outputs": []
    },
    {
      "cell_type": "markdown",
      "source": [
        "#### model building ( Classification )"
      ],
      "metadata": {
        "id": "_ru-B7J46gYg"
      }
    },
    {
      "cell_type": "code",
      "source": [
        "df2 = dfIris.values\n",
        "print(df2.shape)"
      ],
      "metadata": {
        "colab": {
          "base_uri": "https://localhost:8080/"
        },
        "id": "j6mhfZRF6lUP",
        "outputId": "1de7818b-3103-4f2c-e462-31cd4b606492"
      },
      "execution_count": null,
      "outputs": [
        {
          "output_type": "stream",
          "name": "stdout",
          "text": [
            "(150, 5)\n"
          ]
        }
      ]
    },
    {
      "cell_type": "code",
      "source": [
        "df2[:10,:4]"
      ],
      "metadata": {
        "colab": {
          "base_uri": "https://localhost:8080/"
        },
        "id": "KfGg39b76lW8",
        "outputId": "ca0f4d29-cdfe-481d-a482-6b5519687eab"
      },
      "execution_count": null,
      "outputs": [
        {
          "output_type": "execute_result",
          "data": {
            "text/plain": [
              "array([[5.1, 3.5, 1.4, 0.2],\n",
              "       [4.9, 3.0, 1.4, 0.2],\n",
              "       [4.7, 3.2, 1.3, 0.2],\n",
              "       [4.6, 3.1, 1.5, 0.2],\n",
              "       [5.0, 3.6, 1.4, 0.2],\n",
              "       [5.4, 3.9, 1.7, 0.4],\n",
              "       [4.6, 3.4, 1.4, 0.3],\n",
              "       [5.0, 3.4, 1.5, 0.2],\n",
              "       [4.4, 2.9, 1.4, 0.2],\n",
              "       [4.9, 3.1, 1.5, 0.1]], dtype=object)"
            ]
          },
          "metadata": {},
          "execution_count": 9
        }
      ]
    },
    {
      "cell_type": "code",
      "source": [
        "#divide data into feature matrix and target matrix\n",
        "X = df2[:,:4] # all the rows and first four columns 0-3\n",
        "Y = df2[:,4]   # all the rows and only fourth column (last column )\n",
        "print(X.shape, Y.shape)"
      ],
      "metadata": {
        "colab": {
          "base_uri": "https://localhost:8080/"
        },
        "id": "Lo3dHofR61kn",
        "outputId": "54edc198-df72-4a9b-e5dd-d35e598a832f"
      },
      "execution_count": null,
      "outputs": [
        {
          "output_type": "stream",
          "name": "stdout",
          "text": [
            "(150, 4) (150,)\n"
          ]
        }
      ]
    },
    {
      "cell_type": "code",
      "source": [
        "# fit this in model \n",
        "from sklearn.linear_model import LogisticRegression\n",
        "model1= LogisticRegression()"
      ],
      "metadata": {
        "id": "NsNCxaQS8HRy"
      },
      "execution_count": null,
      "outputs": []
    },
    {
      "cell_type": "code",
      "source": [
        "model1.fit(X,Y)"
      ],
      "metadata": {
        "colab": {
          "base_uri": "https://localhost:8080/"
        },
        "id": "BwOq1kAl8vKw",
        "outputId": "842f8368-f9bd-4dca-f67a-232d04345d7f"
      },
      "execution_count": null,
      "outputs": [
        {
          "output_type": "execute_result",
          "data": {
            "text/plain": [
              "LogisticRegression()"
            ]
          },
          "metadata": {},
          "execution_count": 12
        }
      ]
    },
    {
      "cell_type": "code",
      "source": [
        "model1.predict([[ 5.0, 3.6, 1.4, 0.2]])"
      ],
      "metadata": {
        "colab": {
          "base_uri": "https://localhost:8080/"
        },
        "id": "F-dHPJTQ8yul",
        "outputId": "426b43e9-23a1-4347-fee6-b56a0d7b9d3e"
      },
      "execution_count": null,
      "outputs": [
        {
          "output_type": "execute_result",
          "data": {
            "text/plain": [
              "array(['Iris-setosa'], dtype=object)"
            ]
          },
          "metadata": {},
          "execution_count": 13
        }
      ]
    },
    {
      "cell_type": "code",
      "source": [
        "model1.predict ([[5.3,2.8,4.8,1.4]])"
      ],
      "metadata": {
        "colab": {
          "base_uri": "https://localhost:8080/"
        },
        "id": "n_hbpZREsR4-",
        "outputId": "cc8d69ee-5b3f-47f1-ed1e-1f0c432014f4"
      },
      "execution_count": null,
      "outputs": [
        {
          "output_type": "execute_result",
          "data": {
            "text/plain": [
              "array(['Iris-versicolor'], dtype=object)"
            ]
          },
          "metadata": {},
          "execution_count": 15
        }
      ]
    },
    {
      "cell_type": "code",
      "source": [
        "model1.predict([[6.0,2.2,5.0,1.5]])"
      ],
      "metadata": {
        "colab": {
          "base_uri": "https://localhost:8080/"
        },
        "id": "HnVokcqQ8-FF",
        "outputId": "7ec3700f-6869-4cf5-9933-6ad5cf063bf7"
      },
      "execution_count": null,
      "outputs": [
        {
          "output_type": "execute_result",
          "data": {
            "text/plain": [
              "array(['Iris-virginica'], dtype=object)"
            ]
          },
          "metadata": {},
          "execution_count": 42
        }
      ]
    },
    {
      "cell_type": "code",
      "source": [
        "res = model1.predict([[5.0,3.2,5.0,2.5]])\n",
        "print(\"The flower is predicted to be \" , res[0])"
      ],
      "metadata": {
        "colab": {
          "base_uri": "https://localhost:8080/"
        },
        "id": "jrDol_r_8-IH",
        "outputId": "71d899f7-199d-4648-d892-d296ee4fedca"
      },
      "execution_count": null,
      "outputs": [
        {
          "output_type": "stream",
          "name": "stdout",
          "text": [
            "The flower is predicted to be  Iris-virginica\n"
          ]
        }
      ]
    },
    {
      "cell_type": "code",
      "source": [
        "a=5.0\n",
        "b=3.2\n",
        "c=5.0\n",
        "d=2.5\n",
        "ftype = model1.predict([[a,b,c,d]])\n",
        "print(\"The flower is predicted to be \" , ftype[0])"
      ],
      "metadata": {
        "colab": {
          "base_uri": "https://localhost:8080/"
        },
        "id": "o11HesNhsi69",
        "outputId": "e8f4dc09-0dc9-4951-caa7-753e8b365fe3"
      },
      "execution_count": null,
      "outputs": [
        {
          "output_type": "stream",
          "name": "stdout",
          "text": [
            "The flower is predicted to be  Iris-virginica\n"
          ]
        }
      ]
    },
    {
      "cell_type": "code",
      "source": [
        "a= float ( input ( \" enter value of SepalLength  :\"))\n",
        "b= float ( input ( \" enter value of SepalWidth  :\"))\n",
        "c= float ( input ( \" enter value of PetalLength  :\"))\n",
        "d= float ( input ( \" enter value of PetalWidth  :\"))\n",
        "ftype = model1.predict([[a,b,c,d]])\n",
        "print(\"The flower is predicted to be \" , ftype[0])"
      ],
      "metadata": {
        "colab": {
          "base_uri": "https://localhost:8080/"
        },
        "id": "6rqkzM4ws8AV",
        "outputId": "bac2ac72-536a-4ab4-dfaa-9d7aed3d0324"
      },
      "execution_count": null,
      "outputs": [
        {
          "output_type": "stream",
          "name": "stdout",
          "text": [
            " enter value of SepalLength  :5.1\n",
            " enter value of SepalWidth  :3.2\n",
            " enter value of PetalLength  :4.4\n",
            " enter value of PetalWidth  :5.5\n",
            "The flower is predicted to be  Iris-virginica\n"
          ]
        }
      ]
    },
    {
      "cell_type": "markdown",
      "source": [
        "### Machine Learning  ( using wine dataset)"
      ],
      "metadata": {
        "id": "XaWl5OHGdi2h"
      }
    },
    {
      "cell_type": "code",
      "source": [
        "import pandas as pd\n",
        "import matplotlib.pyplot as plt\n",
        "import numpy as np\n",
        "\n",
        "url =\"https://raw.githubusercontent.com/sarwansingh/Python/master/ClassExamples/data/wines/winequality-red.csv\"\n",
        "\n",
        "dfWines =  pd.read_csv(url , delimiter=';')\n",
        "dfWines"
      ],
      "metadata": {
        "id": "fEfTMTDA9PTm",
        "colab": {
          "base_uri": "https://localhost:8080/",
          "height": 502
        },
        "outputId": "1a34288a-4130-46ce-fd13-b0eabde5e167"
      },
      "execution_count": null,
      "outputs": [
        {
          "output_type": "execute_result",
          "data": {
            "text/html": [
              "\n",
              "  <div id=\"df-f198c55c-0db3-4ec1-baca-6286617a6fe1\">\n",
              "    <div class=\"colab-df-container\">\n",
              "      <div>\n",
              "<style scoped>\n",
              "    .dataframe tbody tr th:only-of-type {\n",
              "        vertical-align: middle;\n",
              "    }\n",
              "\n",
              "    .dataframe tbody tr th {\n",
              "        vertical-align: top;\n",
              "    }\n",
              "\n",
              "    .dataframe thead th {\n",
              "        text-align: right;\n",
              "    }\n",
              "</style>\n",
              "<table border=\"1\" class=\"dataframe\">\n",
              "  <thead>\n",
              "    <tr style=\"text-align: right;\">\n",
              "      <th></th>\n",
              "      <th>fixed acidity</th>\n",
              "      <th>volatile acidity</th>\n",
              "      <th>citric acid</th>\n",
              "      <th>residual sugar</th>\n",
              "      <th>chlorides</th>\n",
              "      <th>free sulfur dioxide</th>\n",
              "      <th>total sulfur dioxide</th>\n",
              "      <th>density</th>\n",
              "      <th>pH</th>\n",
              "      <th>sulphates</th>\n",
              "      <th>alcohol</th>\n",
              "      <th>quality</th>\n",
              "    </tr>\n",
              "  </thead>\n",
              "  <tbody>\n",
              "    <tr>\n",
              "      <th>0</th>\n",
              "      <td>7.4</td>\n",
              "      <td>0.700</td>\n",
              "      <td>0.00</td>\n",
              "      <td>1.9</td>\n",
              "      <td>0.076</td>\n",
              "      <td>11.0</td>\n",
              "      <td>34.0</td>\n",
              "      <td>0.99780</td>\n",
              "      <td>3.51</td>\n",
              "      <td>0.56</td>\n",
              "      <td>9.4</td>\n",
              "      <td>5</td>\n",
              "    </tr>\n",
              "    <tr>\n",
              "      <th>1</th>\n",
              "      <td>7.8</td>\n",
              "      <td>0.880</td>\n",
              "      <td>0.00</td>\n",
              "      <td>2.6</td>\n",
              "      <td>0.098</td>\n",
              "      <td>25.0</td>\n",
              "      <td>67.0</td>\n",
              "      <td>0.99680</td>\n",
              "      <td>3.20</td>\n",
              "      <td>0.68</td>\n",
              "      <td>9.8</td>\n",
              "      <td>5</td>\n",
              "    </tr>\n",
              "    <tr>\n",
              "      <th>2</th>\n",
              "      <td>7.8</td>\n",
              "      <td>0.760</td>\n",
              "      <td>0.04</td>\n",
              "      <td>2.3</td>\n",
              "      <td>0.092</td>\n",
              "      <td>15.0</td>\n",
              "      <td>54.0</td>\n",
              "      <td>0.99700</td>\n",
              "      <td>3.26</td>\n",
              "      <td>0.65</td>\n",
              "      <td>9.8</td>\n",
              "      <td>5</td>\n",
              "    </tr>\n",
              "    <tr>\n",
              "      <th>3</th>\n",
              "      <td>11.2</td>\n",
              "      <td>0.280</td>\n",
              "      <td>0.56</td>\n",
              "      <td>1.9</td>\n",
              "      <td>0.075</td>\n",
              "      <td>17.0</td>\n",
              "      <td>60.0</td>\n",
              "      <td>0.99800</td>\n",
              "      <td>3.16</td>\n",
              "      <td>0.58</td>\n",
              "      <td>9.8</td>\n",
              "      <td>6</td>\n",
              "    </tr>\n",
              "    <tr>\n",
              "      <th>4</th>\n",
              "      <td>7.4</td>\n",
              "      <td>0.700</td>\n",
              "      <td>0.00</td>\n",
              "      <td>1.9</td>\n",
              "      <td>0.076</td>\n",
              "      <td>11.0</td>\n",
              "      <td>34.0</td>\n",
              "      <td>0.99780</td>\n",
              "      <td>3.51</td>\n",
              "      <td>0.56</td>\n",
              "      <td>9.4</td>\n",
              "      <td>5</td>\n",
              "    </tr>\n",
              "    <tr>\n",
              "      <th>...</th>\n",
              "      <td>...</td>\n",
              "      <td>...</td>\n",
              "      <td>...</td>\n",
              "      <td>...</td>\n",
              "      <td>...</td>\n",
              "      <td>...</td>\n",
              "      <td>...</td>\n",
              "      <td>...</td>\n",
              "      <td>...</td>\n",
              "      <td>...</td>\n",
              "      <td>...</td>\n",
              "      <td>...</td>\n",
              "    </tr>\n",
              "    <tr>\n",
              "      <th>1594</th>\n",
              "      <td>6.2</td>\n",
              "      <td>0.600</td>\n",
              "      <td>0.08</td>\n",
              "      <td>2.0</td>\n",
              "      <td>0.090</td>\n",
              "      <td>32.0</td>\n",
              "      <td>44.0</td>\n",
              "      <td>0.99490</td>\n",
              "      <td>3.45</td>\n",
              "      <td>0.58</td>\n",
              "      <td>10.5</td>\n",
              "      <td>5</td>\n",
              "    </tr>\n",
              "    <tr>\n",
              "      <th>1595</th>\n",
              "      <td>5.9</td>\n",
              "      <td>0.550</td>\n",
              "      <td>0.10</td>\n",
              "      <td>2.2</td>\n",
              "      <td>0.062</td>\n",
              "      <td>39.0</td>\n",
              "      <td>51.0</td>\n",
              "      <td>0.99512</td>\n",
              "      <td>3.52</td>\n",
              "      <td>0.76</td>\n",
              "      <td>11.2</td>\n",
              "      <td>6</td>\n",
              "    </tr>\n",
              "    <tr>\n",
              "      <th>1596</th>\n",
              "      <td>6.3</td>\n",
              "      <td>0.510</td>\n",
              "      <td>0.13</td>\n",
              "      <td>2.3</td>\n",
              "      <td>0.076</td>\n",
              "      <td>29.0</td>\n",
              "      <td>40.0</td>\n",
              "      <td>0.99574</td>\n",
              "      <td>3.42</td>\n",
              "      <td>0.75</td>\n",
              "      <td>11.0</td>\n",
              "      <td>6</td>\n",
              "    </tr>\n",
              "    <tr>\n",
              "      <th>1597</th>\n",
              "      <td>5.9</td>\n",
              "      <td>0.645</td>\n",
              "      <td>0.12</td>\n",
              "      <td>2.0</td>\n",
              "      <td>0.075</td>\n",
              "      <td>32.0</td>\n",
              "      <td>44.0</td>\n",
              "      <td>0.99547</td>\n",
              "      <td>3.57</td>\n",
              "      <td>0.71</td>\n",
              "      <td>10.2</td>\n",
              "      <td>5</td>\n",
              "    </tr>\n",
              "    <tr>\n",
              "      <th>1598</th>\n",
              "      <td>6.0</td>\n",
              "      <td>0.310</td>\n",
              "      <td>0.47</td>\n",
              "      <td>3.6</td>\n",
              "      <td>0.067</td>\n",
              "      <td>18.0</td>\n",
              "      <td>42.0</td>\n",
              "      <td>0.99549</td>\n",
              "      <td>3.39</td>\n",
              "      <td>0.66</td>\n",
              "      <td>11.0</td>\n",
              "      <td>6</td>\n",
              "    </tr>\n",
              "  </tbody>\n",
              "</table>\n",
              "<p>1599 rows × 12 columns</p>\n",
              "</div>\n",
              "      <button class=\"colab-df-convert\" onclick=\"convertToInteractive('df-f198c55c-0db3-4ec1-baca-6286617a6fe1')\"\n",
              "              title=\"Convert this dataframe to an interactive table.\"\n",
              "              style=\"display:none;\">\n",
              "        \n",
              "  <svg xmlns=\"http://www.w3.org/2000/svg\" height=\"24px\"viewBox=\"0 0 24 24\"\n",
              "       width=\"24px\">\n",
              "    <path d=\"M0 0h24v24H0V0z\" fill=\"none\"/>\n",
              "    <path d=\"M18.56 5.44l.94 2.06.94-2.06 2.06-.94-2.06-.94-.94-2.06-.94 2.06-2.06.94zm-11 1L8.5 8.5l.94-2.06 2.06-.94-2.06-.94L8.5 2.5l-.94 2.06-2.06.94zm10 10l.94 2.06.94-2.06 2.06-.94-2.06-.94-.94-2.06-.94 2.06-2.06.94z\"/><path d=\"M17.41 7.96l-1.37-1.37c-.4-.4-.92-.59-1.43-.59-.52 0-1.04.2-1.43.59L10.3 9.45l-7.72 7.72c-.78.78-.78 2.05 0 2.83L4 21.41c.39.39.9.59 1.41.59.51 0 1.02-.2 1.41-.59l7.78-7.78 2.81-2.81c.8-.78.8-2.07 0-2.86zM5.41 20L4 18.59l7.72-7.72 1.47 1.35L5.41 20z\"/>\n",
              "  </svg>\n",
              "      </button>\n",
              "      \n",
              "  <style>\n",
              "    .colab-df-container {\n",
              "      display:flex;\n",
              "      flex-wrap:wrap;\n",
              "      gap: 12px;\n",
              "    }\n",
              "\n",
              "    .colab-df-convert {\n",
              "      background-color: #E8F0FE;\n",
              "      border: none;\n",
              "      border-radius: 50%;\n",
              "      cursor: pointer;\n",
              "      display: none;\n",
              "      fill: #1967D2;\n",
              "      height: 32px;\n",
              "      padding: 0 0 0 0;\n",
              "      width: 32px;\n",
              "    }\n",
              "\n",
              "    .colab-df-convert:hover {\n",
              "      background-color: #E2EBFA;\n",
              "      box-shadow: 0px 1px 2px rgba(60, 64, 67, 0.3), 0px 1px 3px 1px rgba(60, 64, 67, 0.15);\n",
              "      fill: #174EA6;\n",
              "    }\n",
              "\n",
              "    [theme=dark] .colab-df-convert {\n",
              "      background-color: #3B4455;\n",
              "      fill: #D2E3FC;\n",
              "    }\n",
              "\n",
              "    [theme=dark] .colab-df-convert:hover {\n",
              "      background-color: #434B5C;\n",
              "      box-shadow: 0px 1px 3px 1px rgba(0, 0, 0, 0.15);\n",
              "      filter: drop-shadow(0px 1px 2px rgba(0, 0, 0, 0.3));\n",
              "      fill: #FFFFFF;\n",
              "    }\n",
              "  </style>\n",
              "\n",
              "      <script>\n",
              "        const buttonEl =\n",
              "          document.querySelector('#df-f198c55c-0db3-4ec1-baca-6286617a6fe1 button.colab-df-convert');\n",
              "        buttonEl.style.display =\n",
              "          google.colab.kernel.accessAllowed ? 'block' : 'none';\n",
              "\n",
              "        async function convertToInteractive(key) {\n",
              "          const element = document.querySelector('#df-f198c55c-0db3-4ec1-baca-6286617a6fe1');\n",
              "          const dataTable =\n",
              "            await google.colab.kernel.invokeFunction('convertToInteractive',\n",
              "                                                     [key], {});\n",
              "          if (!dataTable) return;\n",
              "\n",
              "          const docLinkHtml = 'Like what you see? Visit the ' +\n",
              "            '<a target=\"_blank\" href=https://colab.research.google.com/notebooks/data_table.ipynb>data table notebook</a>'\n",
              "            + ' to learn more about interactive tables.';\n",
              "          element.innerHTML = '';\n",
              "          dataTable['output_type'] = 'display_data';\n",
              "          await google.colab.output.renderOutput(dataTable, element);\n",
              "          const docLink = document.createElement('div');\n",
              "          docLink.innerHTML = docLinkHtml;\n",
              "          element.appendChild(docLink);\n",
              "        }\n",
              "      </script>\n",
              "    </div>\n",
              "  </div>\n",
              "  "
            ],
            "text/plain": [
              "      fixed acidity  volatile acidity  citric acid  ...  sulphates  alcohol  quality\n",
              "0               7.4             0.700         0.00  ...       0.56      9.4        5\n",
              "1               7.8             0.880         0.00  ...       0.68      9.8        5\n",
              "2               7.8             0.760         0.04  ...       0.65      9.8        5\n",
              "3              11.2             0.280         0.56  ...       0.58      9.8        6\n",
              "4               7.4             0.700         0.00  ...       0.56      9.4        5\n",
              "...             ...               ...          ...  ...        ...      ...      ...\n",
              "1594            6.2             0.600         0.08  ...       0.58     10.5        5\n",
              "1595            5.9             0.550         0.10  ...       0.76     11.2        6\n",
              "1596            6.3             0.510         0.13  ...       0.75     11.0        6\n",
              "1597            5.9             0.645         0.12  ...       0.71     10.2        5\n",
              "1598            6.0             0.310         0.47  ...       0.66     11.0        6\n",
              "\n",
              "[1599 rows x 12 columns]"
            ]
          },
          "metadata": {},
          "execution_count": 3
        }
      ]
    },
    {
      "cell_type": "code",
      "source": [
        ""
      ],
      "metadata": {
        "id": "Q4w75GLreNoX"
      },
      "execution_count": null,
      "outputs": []
    },
    {
      "cell_type": "markdown",
      "source": [
        "### Machine Learning  ( using Boston housing dataset)"
      ],
      "metadata": {
        "id": "eSyVRXuJeU7p"
      }
    },
    {
      "cell_type": "code",
      "source": [
        "import pandas as pd\n",
        "import matplotlib.pyplot as plt\n",
        "import numpy as np\n",
        "\n",
        "url =\"https://raw.githubusercontent.com/sarwansingh/Python/master/ClassExamples/data/Boston%20Housing/data.csv\"\n",
        "\n",
        "dfBoston =  pd.read_csv(url )\n",
        "dfBoston"
      ],
      "metadata": {
        "colab": {
          "base_uri": "https://localhost:8080/",
          "height": 423
        },
        "outputId": "18d7a42f-9773-4d0e-a701-ed1179909f96",
        "id": "kt7XGNHUeU7p"
      },
      "execution_count": null,
      "outputs": [
        {
          "output_type": "execute_result",
          "data": {
            "text/html": [
              "\n",
              "  <div id=\"df-00682e44-e98d-454d-a096-ef156634e406\">\n",
              "    <div class=\"colab-df-container\">\n",
              "      <div>\n",
              "<style scoped>\n",
              "    .dataframe tbody tr th:only-of-type {\n",
              "        vertical-align: middle;\n",
              "    }\n",
              "\n",
              "    .dataframe tbody tr th {\n",
              "        vertical-align: top;\n",
              "    }\n",
              "\n",
              "    .dataframe thead th {\n",
              "        text-align: right;\n",
              "    }\n",
              "</style>\n",
              "<table border=\"1\" class=\"dataframe\">\n",
              "  <thead>\n",
              "    <tr style=\"text-align: right;\">\n",
              "      <th></th>\n",
              "      <th>crim</th>\n",
              "      <th>zn</th>\n",
              "      <th>indus</th>\n",
              "      <th>chas</th>\n",
              "      <th>nox</th>\n",
              "      <th>rm</th>\n",
              "      <th>age</th>\n",
              "      <th>dis</th>\n",
              "      <th>rad</th>\n",
              "      <th>tax</th>\n",
              "      <th>ptratio</th>\n",
              "      <th>b</th>\n",
              "      <th>lstat</th>\n",
              "      <th>medv</th>\n",
              "    </tr>\n",
              "  </thead>\n",
              "  <tbody>\n",
              "    <tr>\n",
              "      <th>0</th>\n",
              "      <td>0.00632</td>\n",
              "      <td>18.0</td>\n",
              "      <td>2.31</td>\n",
              "      <td>0</td>\n",
              "      <td>0.538</td>\n",
              "      <td>6.575</td>\n",
              "      <td>65.2</td>\n",
              "      <td>4.0900</td>\n",
              "      <td>1</td>\n",
              "      <td>296</td>\n",
              "      <td>15.3</td>\n",
              "      <td>396.90</td>\n",
              "      <td>4.98</td>\n",
              "      <td>24.0</td>\n",
              "    </tr>\n",
              "    <tr>\n",
              "      <th>1</th>\n",
              "      <td>0.02731</td>\n",
              "      <td>0.0</td>\n",
              "      <td>7.07</td>\n",
              "      <td>0</td>\n",
              "      <td>0.469</td>\n",
              "      <td>6.421</td>\n",
              "      <td>78.9</td>\n",
              "      <td>4.9671</td>\n",
              "      <td>2</td>\n",
              "      <td>242</td>\n",
              "      <td>17.8</td>\n",
              "      <td>396.90</td>\n",
              "      <td>9.14</td>\n",
              "      <td>21.6</td>\n",
              "    </tr>\n",
              "    <tr>\n",
              "      <th>2</th>\n",
              "      <td>0.02729</td>\n",
              "      <td>0.0</td>\n",
              "      <td>7.07</td>\n",
              "      <td>0</td>\n",
              "      <td>0.469</td>\n",
              "      <td>7.185</td>\n",
              "      <td>61.1</td>\n",
              "      <td>4.9671</td>\n",
              "      <td>2</td>\n",
              "      <td>242</td>\n",
              "      <td>17.8</td>\n",
              "      <td>392.83</td>\n",
              "      <td>4.03</td>\n",
              "      <td>34.7</td>\n",
              "    </tr>\n",
              "    <tr>\n",
              "      <th>3</th>\n",
              "      <td>0.03237</td>\n",
              "      <td>0.0</td>\n",
              "      <td>2.18</td>\n",
              "      <td>0</td>\n",
              "      <td>0.458</td>\n",
              "      <td>6.998</td>\n",
              "      <td>45.8</td>\n",
              "      <td>6.0622</td>\n",
              "      <td>3</td>\n",
              "      <td>222</td>\n",
              "      <td>18.7</td>\n",
              "      <td>394.63</td>\n",
              "      <td>2.94</td>\n",
              "      <td>33.4</td>\n",
              "    </tr>\n",
              "    <tr>\n",
              "      <th>4</th>\n",
              "      <td>0.06905</td>\n",
              "      <td>0.0</td>\n",
              "      <td>2.18</td>\n",
              "      <td>0</td>\n",
              "      <td>0.458</td>\n",
              "      <td>7.147</td>\n",
              "      <td>54.2</td>\n",
              "      <td>6.0622</td>\n",
              "      <td>3</td>\n",
              "      <td>222</td>\n",
              "      <td>18.7</td>\n",
              "      <td>396.90</td>\n",
              "      <td>5.33</td>\n",
              "      <td>36.2</td>\n",
              "    </tr>\n",
              "    <tr>\n",
              "      <th>...</th>\n",
              "      <td>...</td>\n",
              "      <td>...</td>\n",
              "      <td>...</td>\n",
              "      <td>...</td>\n",
              "      <td>...</td>\n",
              "      <td>...</td>\n",
              "      <td>...</td>\n",
              "      <td>...</td>\n",
              "      <td>...</td>\n",
              "      <td>...</td>\n",
              "      <td>...</td>\n",
              "      <td>...</td>\n",
              "      <td>...</td>\n",
              "      <td>...</td>\n",
              "    </tr>\n",
              "    <tr>\n",
              "      <th>501</th>\n",
              "      <td>0.06263</td>\n",
              "      <td>0.0</td>\n",
              "      <td>11.93</td>\n",
              "      <td>0</td>\n",
              "      <td>0.573</td>\n",
              "      <td>6.593</td>\n",
              "      <td>69.1</td>\n",
              "      <td>2.4786</td>\n",
              "      <td>1</td>\n",
              "      <td>273</td>\n",
              "      <td>21.0</td>\n",
              "      <td>391.99</td>\n",
              "      <td>9.67</td>\n",
              "      <td>22.4</td>\n",
              "    </tr>\n",
              "    <tr>\n",
              "      <th>502</th>\n",
              "      <td>0.04527</td>\n",
              "      <td>0.0</td>\n",
              "      <td>11.93</td>\n",
              "      <td>0</td>\n",
              "      <td>0.573</td>\n",
              "      <td>6.120</td>\n",
              "      <td>76.7</td>\n",
              "      <td>2.2875</td>\n",
              "      <td>1</td>\n",
              "      <td>273</td>\n",
              "      <td>21.0</td>\n",
              "      <td>396.90</td>\n",
              "      <td>9.08</td>\n",
              "      <td>20.6</td>\n",
              "    </tr>\n",
              "    <tr>\n",
              "      <th>503</th>\n",
              "      <td>0.06076</td>\n",
              "      <td>0.0</td>\n",
              "      <td>11.93</td>\n",
              "      <td>0</td>\n",
              "      <td>0.573</td>\n",
              "      <td>6.976</td>\n",
              "      <td>91.0</td>\n",
              "      <td>2.1675</td>\n",
              "      <td>1</td>\n",
              "      <td>273</td>\n",
              "      <td>21.0</td>\n",
              "      <td>396.90</td>\n",
              "      <td>5.64</td>\n",
              "      <td>23.9</td>\n",
              "    </tr>\n",
              "    <tr>\n",
              "      <th>504</th>\n",
              "      <td>0.10959</td>\n",
              "      <td>0.0</td>\n",
              "      <td>11.93</td>\n",
              "      <td>0</td>\n",
              "      <td>0.573</td>\n",
              "      <td>6.794</td>\n",
              "      <td>89.3</td>\n",
              "      <td>2.3889</td>\n",
              "      <td>1</td>\n",
              "      <td>273</td>\n",
              "      <td>21.0</td>\n",
              "      <td>393.45</td>\n",
              "      <td>6.48</td>\n",
              "      <td>22.0</td>\n",
              "    </tr>\n",
              "    <tr>\n",
              "      <th>505</th>\n",
              "      <td>0.04741</td>\n",
              "      <td>0.0</td>\n",
              "      <td>11.93</td>\n",
              "      <td>0</td>\n",
              "      <td>0.573</td>\n",
              "      <td>6.030</td>\n",
              "      <td>80.8</td>\n",
              "      <td>2.5050</td>\n",
              "      <td>1</td>\n",
              "      <td>273</td>\n",
              "      <td>21.0</td>\n",
              "      <td>396.90</td>\n",
              "      <td>7.88</td>\n",
              "      <td>11.9</td>\n",
              "    </tr>\n",
              "  </tbody>\n",
              "</table>\n",
              "<p>506 rows × 14 columns</p>\n",
              "</div>\n",
              "      <button class=\"colab-df-convert\" onclick=\"convertToInteractive('df-00682e44-e98d-454d-a096-ef156634e406')\"\n",
              "              title=\"Convert this dataframe to an interactive table.\"\n",
              "              style=\"display:none;\">\n",
              "        \n",
              "  <svg xmlns=\"http://www.w3.org/2000/svg\" height=\"24px\"viewBox=\"0 0 24 24\"\n",
              "       width=\"24px\">\n",
              "    <path d=\"M0 0h24v24H0V0z\" fill=\"none\"/>\n",
              "    <path d=\"M18.56 5.44l.94 2.06.94-2.06 2.06-.94-2.06-.94-.94-2.06-.94 2.06-2.06.94zm-11 1L8.5 8.5l.94-2.06 2.06-.94-2.06-.94L8.5 2.5l-.94 2.06-2.06.94zm10 10l.94 2.06.94-2.06 2.06-.94-2.06-.94-.94-2.06-.94 2.06-2.06.94z\"/><path d=\"M17.41 7.96l-1.37-1.37c-.4-.4-.92-.59-1.43-.59-.52 0-1.04.2-1.43.59L10.3 9.45l-7.72 7.72c-.78.78-.78 2.05 0 2.83L4 21.41c.39.39.9.59 1.41.59.51 0 1.02-.2 1.41-.59l7.78-7.78 2.81-2.81c.8-.78.8-2.07 0-2.86zM5.41 20L4 18.59l7.72-7.72 1.47 1.35L5.41 20z\"/>\n",
              "  </svg>\n",
              "      </button>\n",
              "      \n",
              "  <style>\n",
              "    .colab-df-container {\n",
              "      display:flex;\n",
              "      flex-wrap:wrap;\n",
              "      gap: 12px;\n",
              "    }\n",
              "\n",
              "    .colab-df-convert {\n",
              "      background-color: #E8F0FE;\n",
              "      border: none;\n",
              "      border-radius: 50%;\n",
              "      cursor: pointer;\n",
              "      display: none;\n",
              "      fill: #1967D2;\n",
              "      height: 32px;\n",
              "      padding: 0 0 0 0;\n",
              "      width: 32px;\n",
              "    }\n",
              "\n",
              "    .colab-df-convert:hover {\n",
              "      background-color: #E2EBFA;\n",
              "      box-shadow: 0px 1px 2px rgba(60, 64, 67, 0.3), 0px 1px 3px 1px rgba(60, 64, 67, 0.15);\n",
              "      fill: #174EA6;\n",
              "    }\n",
              "\n",
              "    [theme=dark] .colab-df-convert {\n",
              "      background-color: #3B4455;\n",
              "      fill: #D2E3FC;\n",
              "    }\n",
              "\n",
              "    [theme=dark] .colab-df-convert:hover {\n",
              "      background-color: #434B5C;\n",
              "      box-shadow: 0px 1px 3px 1px rgba(0, 0, 0, 0.15);\n",
              "      filter: drop-shadow(0px 1px 2px rgba(0, 0, 0, 0.3));\n",
              "      fill: #FFFFFF;\n",
              "    }\n",
              "  </style>\n",
              "\n",
              "      <script>\n",
              "        const buttonEl =\n",
              "          document.querySelector('#df-00682e44-e98d-454d-a096-ef156634e406 button.colab-df-convert');\n",
              "        buttonEl.style.display =\n",
              "          google.colab.kernel.accessAllowed ? 'block' : 'none';\n",
              "\n",
              "        async function convertToInteractive(key) {\n",
              "          const element = document.querySelector('#df-00682e44-e98d-454d-a096-ef156634e406');\n",
              "          const dataTable =\n",
              "            await google.colab.kernel.invokeFunction('convertToInteractive',\n",
              "                                                     [key], {});\n",
              "          if (!dataTable) return;\n",
              "\n",
              "          const docLinkHtml = 'Like what you see? Visit the ' +\n",
              "            '<a target=\"_blank\" href=https://colab.research.google.com/notebooks/data_table.ipynb>data table notebook</a>'\n",
              "            + ' to learn more about interactive tables.';\n",
              "          element.innerHTML = '';\n",
              "          dataTable['output_type'] = 'display_data';\n",
              "          await google.colab.output.renderOutput(dataTable, element);\n",
              "          const docLink = document.createElement('div');\n",
              "          docLink.innerHTML = docLinkHtml;\n",
              "          element.appendChild(docLink);\n",
              "        }\n",
              "      </script>\n",
              "    </div>\n",
              "  </div>\n",
              "  "
            ],
            "text/plain": [
              "        crim    zn  indus  chas    nox  ...  tax  ptratio       b  lstat  medv\n",
              "0    0.00632  18.0   2.31     0  0.538  ...  296     15.3  396.90   4.98  24.0\n",
              "1    0.02731   0.0   7.07     0  0.469  ...  242     17.8  396.90   9.14  21.6\n",
              "2    0.02729   0.0   7.07     0  0.469  ...  242     17.8  392.83   4.03  34.7\n",
              "3    0.03237   0.0   2.18     0  0.458  ...  222     18.7  394.63   2.94  33.4\n",
              "4    0.06905   0.0   2.18     0  0.458  ...  222     18.7  396.90   5.33  36.2\n",
              "..       ...   ...    ...   ...    ...  ...  ...      ...     ...    ...   ...\n",
              "501  0.06263   0.0  11.93     0  0.573  ...  273     21.0  391.99   9.67  22.4\n",
              "502  0.04527   0.0  11.93     0  0.573  ...  273     21.0  396.90   9.08  20.6\n",
              "503  0.06076   0.0  11.93     0  0.573  ...  273     21.0  396.90   5.64  23.9\n",
              "504  0.10959   0.0  11.93     0  0.573  ...  273     21.0  393.45   6.48  22.0\n",
              "505  0.04741   0.0  11.93     0  0.573  ...  273     21.0  396.90   7.88  11.9\n",
              "\n",
              "[506 rows x 14 columns]"
            ]
          },
          "metadata": {},
          "execution_count": 4
        }
      ]
    },
    {
      "cell_type": "code",
      "source": [
        ""
      ],
      "metadata": {
        "id": "FmqmtCqUewEh"
      },
      "execution_count": null,
      "outputs": []
    },
    {
      "cell_type": "markdown",
      "source": [
        "### Machine Learning  ( using Mall customer dataset)"
      ],
      "metadata": {
        "id": "A0dTuCc-ewTx"
      }
    },
    {
      "cell_type": "markdown",
      "source": [
        "#### Reading data"
      ],
      "metadata": {
        "id": "tBpjbfErsCMe"
      }
    },
    {
      "cell_type": "code",
      "source": [
        "import pandas as pd\n",
        "import matplotlib.pyplot as plt\n",
        "import numpy as np\n",
        "\n",
        "url =\"https://raw.githubusercontent.com/sarwansingh/Python/master/ClassExamples/data/MallCustomers.csv\"\n",
        "\n",
        "dfMall =  pd.read_csv(url )\n",
        "dfMall"
      ],
      "metadata": {
        "colab": {
          "base_uri": "https://localhost:8080/",
          "height": 423
        },
        "id": "nd_4DSjHewK2",
        "outputId": "e261df1a-4a60-45ec-a690-23f7b1d30a46"
      },
      "execution_count": null,
      "outputs": [
        {
          "output_type": "execute_result",
          "data": {
            "text/html": [
              "\n",
              "  <div id=\"df-779cfb16-7002-4dac-bec3-0ba405cc0f8d\">\n",
              "    <div class=\"colab-df-container\">\n",
              "      <div>\n",
              "<style scoped>\n",
              "    .dataframe tbody tr th:only-of-type {\n",
              "        vertical-align: middle;\n",
              "    }\n",
              "\n",
              "    .dataframe tbody tr th {\n",
              "        vertical-align: top;\n",
              "    }\n",
              "\n",
              "    .dataframe thead th {\n",
              "        text-align: right;\n",
              "    }\n",
              "</style>\n",
              "<table border=\"1\" class=\"dataframe\">\n",
              "  <thead>\n",
              "    <tr style=\"text-align: right;\">\n",
              "      <th></th>\n",
              "      <th>CustomerID</th>\n",
              "      <th>Genre</th>\n",
              "      <th>Age</th>\n",
              "      <th>Annual Income (k$)</th>\n",
              "      <th>Spending Score (1-100)</th>\n",
              "    </tr>\n",
              "  </thead>\n",
              "  <tbody>\n",
              "    <tr>\n",
              "      <th>0</th>\n",
              "      <td>1</td>\n",
              "      <td>Male</td>\n",
              "      <td>19</td>\n",
              "      <td>15</td>\n",
              "      <td>39</td>\n",
              "    </tr>\n",
              "    <tr>\n",
              "      <th>1</th>\n",
              "      <td>2</td>\n",
              "      <td>Male</td>\n",
              "      <td>21</td>\n",
              "      <td>15</td>\n",
              "      <td>81</td>\n",
              "    </tr>\n",
              "    <tr>\n",
              "      <th>2</th>\n",
              "      <td>3</td>\n",
              "      <td>Female</td>\n",
              "      <td>20</td>\n",
              "      <td>16</td>\n",
              "      <td>6</td>\n",
              "    </tr>\n",
              "    <tr>\n",
              "      <th>3</th>\n",
              "      <td>4</td>\n",
              "      <td>Female</td>\n",
              "      <td>23</td>\n",
              "      <td>16</td>\n",
              "      <td>77</td>\n",
              "    </tr>\n",
              "    <tr>\n",
              "      <th>4</th>\n",
              "      <td>5</td>\n",
              "      <td>Female</td>\n",
              "      <td>31</td>\n",
              "      <td>17</td>\n",
              "      <td>40</td>\n",
              "    </tr>\n",
              "    <tr>\n",
              "      <th>...</th>\n",
              "      <td>...</td>\n",
              "      <td>...</td>\n",
              "      <td>...</td>\n",
              "      <td>...</td>\n",
              "      <td>...</td>\n",
              "    </tr>\n",
              "    <tr>\n",
              "      <th>195</th>\n",
              "      <td>196</td>\n",
              "      <td>Female</td>\n",
              "      <td>35</td>\n",
              "      <td>120</td>\n",
              "      <td>79</td>\n",
              "    </tr>\n",
              "    <tr>\n",
              "      <th>196</th>\n",
              "      <td>197</td>\n",
              "      <td>Female</td>\n",
              "      <td>45</td>\n",
              "      <td>126</td>\n",
              "      <td>28</td>\n",
              "    </tr>\n",
              "    <tr>\n",
              "      <th>197</th>\n",
              "      <td>198</td>\n",
              "      <td>Male</td>\n",
              "      <td>32</td>\n",
              "      <td>126</td>\n",
              "      <td>74</td>\n",
              "    </tr>\n",
              "    <tr>\n",
              "      <th>198</th>\n",
              "      <td>199</td>\n",
              "      <td>Male</td>\n",
              "      <td>32</td>\n",
              "      <td>137</td>\n",
              "      <td>18</td>\n",
              "    </tr>\n",
              "    <tr>\n",
              "      <th>199</th>\n",
              "      <td>200</td>\n",
              "      <td>Male</td>\n",
              "      <td>30</td>\n",
              "      <td>137</td>\n",
              "      <td>83</td>\n",
              "    </tr>\n",
              "  </tbody>\n",
              "</table>\n",
              "<p>200 rows × 5 columns</p>\n",
              "</div>\n",
              "      <button class=\"colab-df-convert\" onclick=\"convertToInteractive('df-779cfb16-7002-4dac-bec3-0ba405cc0f8d')\"\n",
              "              title=\"Convert this dataframe to an interactive table.\"\n",
              "              style=\"display:none;\">\n",
              "        \n",
              "  <svg xmlns=\"http://www.w3.org/2000/svg\" height=\"24px\"viewBox=\"0 0 24 24\"\n",
              "       width=\"24px\">\n",
              "    <path d=\"M0 0h24v24H0V0z\" fill=\"none\"/>\n",
              "    <path d=\"M18.56 5.44l.94 2.06.94-2.06 2.06-.94-2.06-.94-.94-2.06-.94 2.06-2.06.94zm-11 1L8.5 8.5l.94-2.06 2.06-.94-2.06-.94L8.5 2.5l-.94 2.06-2.06.94zm10 10l.94 2.06.94-2.06 2.06-.94-2.06-.94-.94-2.06-.94 2.06-2.06.94z\"/><path d=\"M17.41 7.96l-1.37-1.37c-.4-.4-.92-.59-1.43-.59-.52 0-1.04.2-1.43.59L10.3 9.45l-7.72 7.72c-.78.78-.78 2.05 0 2.83L4 21.41c.39.39.9.59 1.41.59.51 0 1.02-.2 1.41-.59l7.78-7.78 2.81-2.81c.8-.78.8-2.07 0-2.86zM5.41 20L4 18.59l7.72-7.72 1.47 1.35L5.41 20z\"/>\n",
              "  </svg>\n",
              "      </button>\n",
              "      \n",
              "  <style>\n",
              "    .colab-df-container {\n",
              "      display:flex;\n",
              "      flex-wrap:wrap;\n",
              "      gap: 12px;\n",
              "    }\n",
              "\n",
              "    .colab-df-convert {\n",
              "      background-color: #E8F0FE;\n",
              "      border: none;\n",
              "      border-radius: 50%;\n",
              "      cursor: pointer;\n",
              "      display: none;\n",
              "      fill: #1967D2;\n",
              "      height: 32px;\n",
              "      padding: 0 0 0 0;\n",
              "      width: 32px;\n",
              "    }\n",
              "\n",
              "    .colab-df-convert:hover {\n",
              "      background-color: #E2EBFA;\n",
              "      box-shadow: 0px 1px 2px rgba(60, 64, 67, 0.3), 0px 1px 3px 1px rgba(60, 64, 67, 0.15);\n",
              "      fill: #174EA6;\n",
              "    }\n",
              "\n",
              "    [theme=dark] .colab-df-convert {\n",
              "      background-color: #3B4455;\n",
              "      fill: #D2E3FC;\n",
              "    }\n",
              "\n",
              "    [theme=dark] .colab-df-convert:hover {\n",
              "      background-color: #434B5C;\n",
              "      box-shadow: 0px 1px 3px 1px rgba(0, 0, 0, 0.15);\n",
              "      filter: drop-shadow(0px 1px 2px rgba(0, 0, 0, 0.3));\n",
              "      fill: #FFFFFF;\n",
              "    }\n",
              "  </style>\n",
              "\n",
              "      <script>\n",
              "        const buttonEl =\n",
              "          document.querySelector('#df-779cfb16-7002-4dac-bec3-0ba405cc0f8d button.colab-df-convert');\n",
              "        buttonEl.style.display =\n",
              "          google.colab.kernel.accessAllowed ? 'block' : 'none';\n",
              "\n",
              "        async function convertToInteractive(key) {\n",
              "          const element = document.querySelector('#df-779cfb16-7002-4dac-bec3-0ba405cc0f8d');\n",
              "          const dataTable =\n",
              "            await google.colab.kernel.invokeFunction('convertToInteractive',\n",
              "                                                     [key], {});\n",
              "          if (!dataTable) return;\n",
              "\n",
              "          const docLinkHtml = 'Like what you see? Visit the ' +\n",
              "            '<a target=\"_blank\" href=https://colab.research.google.com/notebooks/data_table.ipynb>data table notebook</a>'\n",
              "            + ' to learn more about interactive tables.';\n",
              "          element.innerHTML = '';\n",
              "          dataTable['output_type'] = 'display_data';\n",
              "          await google.colab.output.renderOutput(dataTable, element);\n",
              "          const docLink = document.createElement('div');\n",
              "          docLink.innerHTML = docLinkHtml;\n",
              "          element.appendChild(docLink);\n",
              "        }\n",
              "      </script>\n",
              "    </div>\n",
              "  </div>\n",
              "  "
            ],
            "text/plain": [
              "     CustomerID   Genre  Age  Annual Income (k$)  Spending Score (1-100)\n",
              "0             1    Male   19                  15                      39\n",
              "1             2    Male   21                  15                      81\n",
              "2             3  Female   20                  16                       6\n",
              "3             4  Female   23                  16                      77\n",
              "4             5  Female   31                  17                      40\n",
              "..          ...     ...  ...                 ...                     ...\n",
              "195         196  Female   35                 120                      79\n",
              "196         197  Female   45                 126                      28\n",
              "197         198    Male   32                 126                      74\n",
              "198         199    Male   32                 137                      18\n",
              "199         200    Male   30                 137                      83\n",
              "\n",
              "[200 rows x 5 columns]"
            ]
          },
          "metadata": {},
          "execution_count": 5
        }
      ]
    },
    {
      "cell_type": "markdown",
      "source": [
        "#### Describe data"
      ],
      "metadata": {
        "id": "R861AcfdnDum"
      }
    },
    {
      "cell_type": "code",
      "source": [
        "dfMall.describe()\n",
        "dfMall.info()\n"
      ],
      "metadata": {
        "colab": {
          "base_uri": "https://localhost:8080/",
          "height": 183
        },
        "id": "hI0GiutUnAxP",
        "outputId": "190effb4-ef54-474e-ec5e-12fc6f9aa99d"
      },
      "execution_count": null,
      "outputs": [
        {
          "output_type": "error",
          "ename": "NameError",
          "evalue": "ignored",
          "traceback": [
            "\u001b[0;31m---------------------------------------------------------------------------\u001b[0m",
            "\u001b[0;31mNameError\u001b[0m                                 Traceback (most recent call last)",
            "\u001b[0;32m<ipython-input-1-f2be0db9ab68>\u001b[0m in \u001b[0;36m<module>\u001b[0;34m()\u001b[0m\n\u001b[0;32m----> 1\u001b[0;31m \u001b[0mdfMall\u001b[0m\u001b[0;34m.\u001b[0m\u001b[0mdescribe\u001b[0m\u001b[0;34m(\u001b[0m\u001b[0;34m)\u001b[0m\u001b[0;34m\u001b[0m\u001b[0;34m\u001b[0m\u001b[0m\n\u001b[0m\u001b[1;32m      2\u001b[0m \u001b[0mdfMall\u001b[0m\u001b[0;34m.\u001b[0m\u001b[0minfo\u001b[0m\u001b[0;34m(\u001b[0m\u001b[0;34m)\u001b[0m\u001b[0;34m\u001b[0m\u001b[0;34m\u001b[0m\u001b[0m\n",
            "\u001b[0;31mNameError\u001b[0m: name 'dfMall' is not defined"
          ]
        }
      ]
    },
    {
      "cell_type": "code",
      "source": [
        "dfMall.groupby(['Genre']).size()"
      ],
      "metadata": {
        "id": "Jh_ALBtEnZPF"
      },
      "execution_count": null,
      "outputs": []
    },
    {
      "cell_type": "markdown",
      "source": [
        "#### replace column values "
      ],
      "metadata": {
        "id": "fkfVTlO-nxZg"
      }
    },
    {
      "cell_type": "code",
      "source": [
        "# convert data in Genre column into numeric\n",
        "# Male 1, female -2\n",
        "dfMall.replace( to_replace=\"Male\", value=1 , inplace=True )\n",
        "dfMall.replace( to_replace=\"Female\", value=2 , inplace=True)\n",
        "dfMall.groupby(['Genre']).size()\n"
      ],
      "metadata": {
        "colab": {
          "base_uri": "https://localhost:8080/"
        },
        "id": "GN5yf7zKnA0A",
        "outputId": "df51ec96-c6cf-4fc3-f07d-c41f3cc86a5d"
      },
      "execution_count": null,
      "outputs": [
        {
          "output_type": "execute_result",
          "data": {
            "text/plain": [
              "Genre\n",
              "1     88\n",
              "2    112\n",
              "dtype: int64"
            ]
          },
          "metadata": {},
          "execution_count": 46
        }
      ]
    },
    {
      "cell_type": "code",
      "source": [
        "dfMall.head()"
      ],
      "metadata": {
        "colab": {
          "base_uri": "https://localhost:8080/",
          "height": 206
        },
        "id": "gq4smQd_nweN",
        "outputId": "0ab0cbe6-80d1-4e97-dbda-69bd45df7c0a"
      },
      "execution_count": null,
      "outputs": [
        {
          "output_type": "execute_result",
          "data": {
            "text/html": [
              "\n",
              "  <div id=\"df-00919576-59be-474b-a419-23dd695fcb60\">\n",
              "    <div class=\"colab-df-container\">\n",
              "      <div>\n",
              "<style scoped>\n",
              "    .dataframe tbody tr th:only-of-type {\n",
              "        vertical-align: middle;\n",
              "    }\n",
              "\n",
              "    .dataframe tbody tr th {\n",
              "        vertical-align: top;\n",
              "    }\n",
              "\n",
              "    .dataframe thead th {\n",
              "        text-align: right;\n",
              "    }\n",
              "</style>\n",
              "<table border=\"1\" class=\"dataframe\">\n",
              "  <thead>\n",
              "    <tr style=\"text-align: right;\">\n",
              "      <th></th>\n",
              "      <th>CustomerID</th>\n",
              "      <th>Genre</th>\n",
              "      <th>Age</th>\n",
              "      <th>Annual Income (k$)</th>\n",
              "      <th>Spending Score (1-100)</th>\n",
              "    </tr>\n",
              "  </thead>\n",
              "  <tbody>\n",
              "    <tr>\n",
              "      <th>0</th>\n",
              "      <td>1</td>\n",
              "      <td>1</td>\n",
              "      <td>19</td>\n",
              "      <td>15</td>\n",
              "      <td>39</td>\n",
              "    </tr>\n",
              "    <tr>\n",
              "      <th>1</th>\n",
              "      <td>2</td>\n",
              "      <td>1</td>\n",
              "      <td>21</td>\n",
              "      <td>15</td>\n",
              "      <td>81</td>\n",
              "    </tr>\n",
              "    <tr>\n",
              "      <th>2</th>\n",
              "      <td>3</td>\n",
              "      <td>2</td>\n",
              "      <td>20</td>\n",
              "      <td>16</td>\n",
              "      <td>6</td>\n",
              "    </tr>\n",
              "    <tr>\n",
              "      <th>3</th>\n",
              "      <td>4</td>\n",
              "      <td>2</td>\n",
              "      <td>23</td>\n",
              "      <td>16</td>\n",
              "      <td>77</td>\n",
              "    </tr>\n",
              "    <tr>\n",
              "      <th>4</th>\n",
              "      <td>5</td>\n",
              "      <td>2</td>\n",
              "      <td>31</td>\n",
              "      <td>17</td>\n",
              "      <td>40</td>\n",
              "    </tr>\n",
              "  </tbody>\n",
              "</table>\n",
              "</div>\n",
              "      <button class=\"colab-df-convert\" onclick=\"convertToInteractive('df-00919576-59be-474b-a419-23dd695fcb60')\"\n",
              "              title=\"Convert this dataframe to an interactive table.\"\n",
              "              style=\"display:none;\">\n",
              "        \n",
              "  <svg xmlns=\"http://www.w3.org/2000/svg\" height=\"24px\"viewBox=\"0 0 24 24\"\n",
              "       width=\"24px\">\n",
              "    <path d=\"M0 0h24v24H0V0z\" fill=\"none\"/>\n",
              "    <path d=\"M18.56 5.44l.94 2.06.94-2.06 2.06-.94-2.06-.94-.94-2.06-.94 2.06-2.06.94zm-11 1L8.5 8.5l.94-2.06 2.06-.94-2.06-.94L8.5 2.5l-.94 2.06-2.06.94zm10 10l.94 2.06.94-2.06 2.06-.94-2.06-.94-.94-2.06-.94 2.06-2.06.94z\"/><path d=\"M17.41 7.96l-1.37-1.37c-.4-.4-.92-.59-1.43-.59-.52 0-1.04.2-1.43.59L10.3 9.45l-7.72 7.72c-.78.78-.78 2.05 0 2.83L4 21.41c.39.39.9.59 1.41.59.51 0 1.02-.2 1.41-.59l7.78-7.78 2.81-2.81c.8-.78.8-2.07 0-2.86zM5.41 20L4 18.59l7.72-7.72 1.47 1.35L5.41 20z\"/>\n",
              "  </svg>\n",
              "      </button>\n",
              "      \n",
              "  <style>\n",
              "    .colab-df-container {\n",
              "      display:flex;\n",
              "      flex-wrap:wrap;\n",
              "      gap: 12px;\n",
              "    }\n",
              "\n",
              "    .colab-df-convert {\n",
              "      background-color: #E8F0FE;\n",
              "      border: none;\n",
              "      border-radius: 50%;\n",
              "      cursor: pointer;\n",
              "      display: none;\n",
              "      fill: #1967D2;\n",
              "      height: 32px;\n",
              "      padding: 0 0 0 0;\n",
              "      width: 32px;\n",
              "    }\n",
              "\n",
              "    .colab-df-convert:hover {\n",
              "      background-color: #E2EBFA;\n",
              "      box-shadow: 0px 1px 2px rgba(60, 64, 67, 0.3), 0px 1px 3px 1px rgba(60, 64, 67, 0.15);\n",
              "      fill: #174EA6;\n",
              "    }\n",
              "\n",
              "    [theme=dark] .colab-df-convert {\n",
              "      background-color: #3B4455;\n",
              "      fill: #D2E3FC;\n",
              "    }\n",
              "\n",
              "    [theme=dark] .colab-df-convert:hover {\n",
              "      background-color: #434B5C;\n",
              "      box-shadow: 0px 1px 3px 1px rgba(0, 0, 0, 0.15);\n",
              "      filter: drop-shadow(0px 1px 2px rgba(0, 0, 0, 0.3));\n",
              "      fill: #FFFFFF;\n",
              "    }\n",
              "  </style>\n",
              "\n",
              "      <script>\n",
              "        const buttonEl =\n",
              "          document.querySelector('#df-00919576-59be-474b-a419-23dd695fcb60 button.colab-df-convert');\n",
              "        buttonEl.style.display =\n",
              "          google.colab.kernel.accessAllowed ? 'block' : 'none';\n",
              "\n",
              "        async function convertToInteractive(key) {\n",
              "          const element = document.querySelector('#df-00919576-59be-474b-a419-23dd695fcb60');\n",
              "          const dataTable =\n",
              "            await google.colab.kernel.invokeFunction('convertToInteractive',\n",
              "                                                     [key], {});\n",
              "          if (!dataTable) return;\n",
              "\n",
              "          const docLinkHtml = 'Like what you see? Visit the ' +\n",
              "            '<a target=\"_blank\" href=https://colab.research.google.com/notebooks/data_table.ipynb>data table notebook</a>'\n",
              "            + ' to learn more about interactive tables.';\n",
              "          element.innerHTML = '';\n",
              "          dataTable['output_type'] = 'display_data';\n",
              "          await google.colab.output.renderOutput(dataTable, element);\n",
              "          const docLink = document.createElement('div');\n",
              "          docLink.innerHTML = docLinkHtml;\n",
              "          element.appendChild(docLink);\n",
              "        }\n",
              "      </script>\n",
              "    </div>\n",
              "  </div>\n",
              "  "
            ],
            "text/plain": [
              "   CustomerID Genre  Age  Annual Income (k$)  Spending Score (1-100)\n",
              "0           1     1   19                  15                      39\n",
              "1           2     1   21                  15                      81\n",
              "2           3     2   20                  16                       6\n",
              "3           4     2   23                  16                      77\n",
              "4           5     2   31                  17                      40"
            ]
          },
          "metadata": {},
          "execution_count": 19
        }
      ]
    },
    {
      "cell_type": "markdown",
      "source": [
        "![image.png](data:image/png;base64,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)"
      ],
      "metadata": {
        "id": "Xh2AP2eopSZO"
      }
    },
    {
      "cell_type": "markdown",
      "source": [
        "#### Model Building "
      ],
      "metadata": {
        "id": "B60MAvuUpWW9"
      }
    },
    {
      "cell_type": "code",
      "source": [
        "# convert the pandas data frame in to numpy \n",
        "dfnMall = dfMall.values"
      ],
      "metadata": {
        "id": "lAzeafpxnwhb"
      },
      "execution_count": null,
      "outputs": []
    },
    {
      "cell_type": "code",
      "source": [
        "# make X matrix and Y matrix\n",
        "dfnMall[:5, 1:4] \n",
        "dfnMall[:5,4]\n",
        "# all the rows and column no 1,2,3\n",
        "X = dfnMall[:, 1:4]\n",
        "# all the rows and column no 4\n",
        "Y = dfnMall[:,4]"
      ],
      "metadata": {
        "id": "g9AV8NkFpjKP"
      },
      "execution_count": null,
      "outputs": []
    },
    {
      "cell_type": "code",
      "source": [
        "print (X[:5,:] , Y[:5  ] )\n",
        "print(X.shape  , Y.shape)"
      ],
      "metadata": {
        "colab": {
          "base_uri": "https://localhost:8080/"
        },
        "id": "UTBUWs5dpjNj",
        "outputId": "7c4c648e-3d09-4954-9d1e-0fde9c8a5fb3"
      },
      "execution_count": null,
      "outputs": [
        {
          "output_type": "stream",
          "name": "stdout",
          "text": [
            "[['1' 19 15]\n",
            " ['1' 21 15]\n",
            " ['2' 20 16]\n",
            " ['2' 23 16]\n",
            " ['2' 31 17]] [39 81 6 77 40]\n",
            "(200, 3) (200,)\n"
          ]
        }
      ]
    },
    {
      "cell_type": "code",
      "source": [
        "# apply the Linear Regression model \n",
        "from  sklearn.linear_model import LinearRegression \n",
        "# while creating object of LinearRegression we select paramter in the object creation \n",
        "# which is known as hyperparameter\n",
        "model = LinearRegression ()"
      ],
      "metadata": {
        "id": "F-Li8uFUqME3"
      },
      "execution_count": null,
      "outputs": []
    },
    {
      "cell_type": "code",
      "source": [
        "model.fit(X,Y)"
      ],
      "metadata": {
        "colab": {
          "base_uri": "https://localhost:8080/"
        },
        "id": "O7LJALDzqMHe",
        "outputId": "06cce7ad-6648-4950-c807-e9f9e51e129a"
      },
      "execution_count": null,
      "outputs": [
        {
          "output_type": "execute_result",
          "data": {
            "text/plain": [
              "LinearRegression()"
            ]
          },
          "metadata": {},
          "execution_count": 44
        }
      ]
    },
    {
      "cell_type": "code",
      "source": [
        "model.predict( [[ 1, 19 ,15]])"
      ],
      "metadata": {
        "colab": {
          "base_uri": "https://localhost:8080/"
        },
        "id": "45Qu_Poaqpzy",
        "outputId": "ed65dab3-24a3-4357-8b65-2afef2f8c26a"
      },
      "execution_count": null,
      "outputs": [
        {
          "output_type": "execute_result",
          "data": {
            "text/plain": [
              "array([60.628691])"
            ]
          },
          "metadata": {},
          "execution_count": 50
        }
      ]
    },
    {
      "cell_type": "code",
      "source": [
        "model.predict ( [[2 ,20 ,16]])"
      ],
      "metadata": {
        "colab": {
          "base_uri": "https://localhost:8080/"
        },
        "id": "2dpeemc9qp25",
        "outputId": "70f8bfe4-3a32-4a7e-d5f5-139ade7592bf"
      },
      "execution_count": null,
      "outputs": [
        {
          "output_type": "execute_result",
          "data": {
            "text/plain": [
              "array([62.0494831])"
            ]
          },
          "metadata": {},
          "execution_count": 49
        }
      ]
    },
    {
      "cell_type": "code",
      "source": [
        "### try getting input from user and test as below\n",
        "#a = eval(input(\"Hours of self study \"))\n",
        "#b = eval(input(\"hours on tutorials \"))\n",
        "#result = model.predict([[a,b]] )\n",
        "# print (result[0]*100 , \"% probability of passing \")"
      ],
      "metadata": {
        "id": "H1v6ZAh0qp9I"
      },
      "execution_count": null,
      "outputs": []
    },
    {
      "cell_type": "markdown",
      "source": [
        "### Machine Learning  ( using Titanic dataset)"
      ],
      "metadata": {
        "id": "3JCEh9p8fTLH"
      }
    },
    {
      "cell_type": "code",
      "source": [
        "import pandas as pd\n",
        "import matplotlib.pyplot as plt\n",
        "import numpy as np\n",
        "\n",
        "url =\"https://raw.githubusercontent.com/sarwansingh/Python/master/ClassExamples/data/titanic.csv\"\n",
        "\n",
        "dfTitanic =  pd.read_csv(url )\n",
        "dfTitanic"
      ],
      "metadata": {
        "colab": {
          "base_uri": "https://localhost:8080/",
          "height": 572
        },
        "id": "XztHWsj6fVU6",
        "outputId": "97553fbb-d855-4986-9bb3-ddbd35a00861"
      },
      "execution_count": null,
      "outputs": [
        {
          "output_type": "execute_result",
          "data": {
            "text/html": [
              "\n",
              "  <div id=\"df-8b1a4172-6888-4c1b-89e3-109a2ecef86b\">\n",
              "    <div class=\"colab-df-container\">\n",
              "      <div>\n",
              "<style scoped>\n",
              "    .dataframe tbody tr th:only-of-type {\n",
              "        vertical-align: middle;\n",
              "    }\n",
              "\n",
              "    .dataframe tbody tr th {\n",
              "        vertical-align: top;\n",
              "    }\n",
              "\n",
              "    .dataframe thead th {\n",
              "        text-align: right;\n",
              "    }\n",
              "</style>\n",
              "<table border=\"1\" class=\"dataframe\">\n",
              "  <thead>\n",
              "    <tr style=\"text-align: right;\">\n",
              "      <th></th>\n",
              "      <th>PassengerId</th>\n",
              "      <th>Survived</th>\n",
              "      <th>Pclass</th>\n",
              "      <th>Name</th>\n",
              "      <th>Sex</th>\n",
              "      <th>Age</th>\n",
              "      <th>SibSp</th>\n",
              "      <th>Parch</th>\n",
              "      <th>Ticket</th>\n",
              "      <th>Fare</th>\n",
              "      <th>Cabin</th>\n",
              "      <th>Embarked</th>\n",
              "    </tr>\n",
              "  </thead>\n",
              "  <tbody>\n",
              "    <tr>\n",
              "      <th>0</th>\n",
              "      <td>1</td>\n",
              "      <td>0</td>\n",
              "      <td>3</td>\n",
              "      <td>Braund, Mr. Owen Harris</td>\n",
              "      <td>male</td>\n",
              "      <td>22.0</td>\n",
              "      <td>1</td>\n",
              "      <td>0</td>\n",
              "      <td>A/5 21171</td>\n",
              "      <td>7.2500</td>\n",
              "      <td>NaN</td>\n",
              "      <td>S</td>\n",
              "    </tr>\n",
              "    <tr>\n",
              "      <th>1</th>\n",
              "      <td>2</td>\n",
              "      <td>1</td>\n",
              "      <td>1</td>\n",
              "      <td>Cumings, Mrs. John Bradley (Florence Briggs Th...</td>\n",
              "      <td>female</td>\n",
              "      <td>38.0</td>\n",
              "      <td>1</td>\n",
              "      <td>0</td>\n",
              "      <td>PC 17599</td>\n",
              "      <td>71.2833</td>\n",
              "      <td>C85</td>\n",
              "      <td>C</td>\n",
              "    </tr>\n",
              "    <tr>\n",
              "      <th>2</th>\n",
              "      <td>3</td>\n",
              "      <td>1</td>\n",
              "      <td>3</td>\n",
              "      <td>Heikkinen, Miss. Laina</td>\n",
              "      <td>female</td>\n",
              "      <td>26.0</td>\n",
              "      <td>0</td>\n",
              "      <td>0</td>\n",
              "      <td>STON/O2. 3101282</td>\n",
              "      <td>7.9250</td>\n",
              "      <td>NaN</td>\n",
              "      <td>S</td>\n",
              "    </tr>\n",
              "    <tr>\n",
              "      <th>3</th>\n",
              "      <td>4</td>\n",
              "      <td>1</td>\n",
              "      <td>1</td>\n",
              "      <td>Futrelle, Mrs. Jacques Heath (Lily May Peel)</td>\n",
              "      <td>female</td>\n",
              "      <td>35.0</td>\n",
              "      <td>1</td>\n",
              "      <td>0</td>\n",
              "      <td>113803</td>\n",
              "      <td>53.1000</td>\n",
              "      <td>C123</td>\n",
              "      <td>S</td>\n",
              "    </tr>\n",
              "    <tr>\n",
              "      <th>4</th>\n",
              "      <td>5</td>\n",
              "      <td>0</td>\n",
              "      <td>3</td>\n",
              "      <td>Allen, Mr. William Henry</td>\n",
              "      <td>male</td>\n",
              "      <td>35.0</td>\n",
              "      <td>0</td>\n",
              "      <td>0</td>\n",
              "      <td>373450</td>\n",
              "      <td>8.0500</td>\n",
              "      <td>NaN</td>\n",
              "      <td>S</td>\n",
              "    </tr>\n",
              "    <tr>\n",
              "      <th>...</th>\n",
              "      <td>...</td>\n",
              "      <td>...</td>\n",
              "      <td>...</td>\n",
              "      <td>...</td>\n",
              "      <td>...</td>\n",
              "      <td>...</td>\n",
              "      <td>...</td>\n",
              "      <td>...</td>\n",
              "      <td>...</td>\n",
              "      <td>...</td>\n",
              "      <td>...</td>\n",
              "      <td>...</td>\n",
              "    </tr>\n",
              "    <tr>\n",
              "      <th>886</th>\n",
              "      <td>887</td>\n",
              "      <td>0</td>\n",
              "      <td>2</td>\n",
              "      <td>Montvila, Rev. Juozas</td>\n",
              "      <td>male</td>\n",
              "      <td>27.0</td>\n",
              "      <td>0</td>\n",
              "      <td>0</td>\n",
              "      <td>211536</td>\n",
              "      <td>13.0000</td>\n",
              "      <td>NaN</td>\n",
              "      <td>S</td>\n",
              "    </tr>\n",
              "    <tr>\n",
              "      <th>887</th>\n",
              "      <td>888</td>\n",
              "      <td>1</td>\n",
              "      <td>1</td>\n",
              "      <td>Graham, Miss. Margaret Edith</td>\n",
              "      <td>female</td>\n",
              "      <td>19.0</td>\n",
              "      <td>0</td>\n",
              "      <td>0</td>\n",
              "      <td>112053</td>\n",
              "      <td>30.0000</td>\n",
              "      <td>B42</td>\n",
              "      <td>S</td>\n",
              "    </tr>\n",
              "    <tr>\n",
              "      <th>888</th>\n",
              "      <td>889</td>\n",
              "      <td>0</td>\n",
              "      <td>3</td>\n",
              "      <td>Johnston, Miss. Catherine Helen \"Carrie\"</td>\n",
              "      <td>female</td>\n",
              "      <td>NaN</td>\n",
              "      <td>1</td>\n",
              "      <td>2</td>\n",
              "      <td>W./C. 6607</td>\n",
              "      <td>23.4500</td>\n",
              "      <td>NaN</td>\n",
              "      <td>S</td>\n",
              "    </tr>\n",
              "    <tr>\n",
              "      <th>889</th>\n",
              "      <td>890</td>\n",
              "      <td>1</td>\n",
              "      <td>1</td>\n",
              "      <td>Behr, Mr. Karl Howell</td>\n",
              "      <td>male</td>\n",
              "      <td>26.0</td>\n",
              "      <td>0</td>\n",
              "      <td>0</td>\n",
              "      <td>111369</td>\n",
              "      <td>30.0000</td>\n",
              "      <td>C148</td>\n",
              "      <td>C</td>\n",
              "    </tr>\n",
              "    <tr>\n",
              "      <th>890</th>\n",
              "      <td>891</td>\n",
              "      <td>0</td>\n",
              "      <td>3</td>\n",
              "      <td>Dooley, Mr. Patrick</td>\n",
              "      <td>male</td>\n",
              "      <td>32.0</td>\n",
              "      <td>0</td>\n",
              "      <td>0</td>\n",
              "      <td>370376</td>\n",
              "      <td>7.7500</td>\n",
              "      <td>NaN</td>\n",
              "      <td>Q</td>\n",
              "    </tr>\n",
              "  </tbody>\n",
              "</table>\n",
              "<p>891 rows × 12 columns</p>\n",
              "</div>\n",
              "      <button class=\"colab-df-convert\" onclick=\"convertToInteractive('df-8b1a4172-6888-4c1b-89e3-109a2ecef86b')\"\n",
              "              title=\"Convert this dataframe to an interactive table.\"\n",
              "              style=\"display:none;\">\n",
              "        \n",
              "  <svg xmlns=\"http://www.w3.org/2000/svg\" height=\"24px\"viewBox=\"0 0 24 24\"\n",
              "       width=\"24px\">\n",
              "    <path d=\"M0 0h24v24H0V0z\" fill=\"none\"/>\n",
              "    <path d=\"M18.56 5.44l.94 2.06.94-2.06 2.06-.94-2.06-.94-.94-2.06-.94 2.06-2.06.94zm-11 1L8.5 8.5l.94-2.06 2.06-.94-2.06-.94L8.5 2.5l-.94 2.06-2.06.94zm10 10l.94 2.06.94-2.06 2.06-.94-2.06-.94-.94-2.06-.94 2.06-2.06.94z\"/><path d=\"M17.41 7.96l-1.37-1.37c-.4-.4-.92-.59-1.43-.59-.52 0-1.04.2-1.43.59L10.3 9.45l-7.72 7.72c-.78.78-.78 2.05 0 2.83L4 21.41c.39.39.9.59 1.41.59.51 0 1.02-.2 1.41-.59l7.78-7.78 2.81-2.81c.8-.78.8-2.07 0-2.86zM5.41 20L4 18.59l7.72-7.72 1.47 1.35L5.41 20z\"/>\n",
              "  </svg>\n",
              "      </button>\n",
              "      \n",
              "  <style>\n",
              "    .colab-df-container {\n",
              "      display:flex;\n",
              "      flex-wrap:wrap;\n",
              "      gap: 12px;\n",
              "    }\n",
              "\n",
              "    .colab-df-convert {\n",
              "      background-color: #E8F0FE;\n",
              "      border: none;\n",
              "      border-radius: 50%;\n",
              "      cursor: pointer;\n",
              "      display: none;\n",
              "      fill: #1967D2;\n",
              "      height: 32px;\n",
              "      padding: 0 0 0 0;\n",
              "      width: 32px;\n",
              "    }\n",
              "\n",
              "    .colab-df-convert:hover {\n",
              "      background-color: #E2EBFA;\n",
              "      box-shadow: 0px 1px 2px rgba(60, 64, 67, 0.3), 0px 1px 3px 1px rgba(60, 64, 67, 0.15);\n",
              "      fill: #174EA6;\n",
              "    }\n",
              "\n",
              "    [theme=dark] .colab-df-convert {\n",
              "      background-color: #3B4455;\n",
              "      fill: #D2E3FC;\n",
              "    }\n",
              "\n",
              "    [theme=dark] .colab-df-convert:hover {\n",
              "      background-color: #434B5C;\n",
              "      box-shadow: 0px 1px 3px 1px rgba(0, 0, 0, 0.15);\n",
              "      filter: drop-shadow(0px 1px 2px rgba(0, 0, 0, 0.3));\n",
              "      fill: #FFFFFF;\n",
              "    }\n",
              "  </style>\n",
              "\n",
              "      <script>\n",
              "        const buttonEl =\n",
              "          document.querySelector('#df-8b1a4172-6888-4c1b-89e3-109a2ecef86b button.colab-df-convert');\n",
              "        buttonEl.style.display =\n",
              "          google.colab.kernel.accessAllowed ? 'block' : 'none';\n",
              "\n",
              "        async function convertToInteractive(key) {\n",
              "          const element = document.querySelector('#df-8b1a4172-6888-4c1b-89e3-109a2ecef86b');\n",
              "          const dataTable =\n",
              "            await google.colab.kernel.invokeFunction('convertToInteractive',\n",
              "                                                     [key], {});\n",
              "          if (!dataTable) return;\n",
              "\n",
              "          const docLinkHtml = 'Like what you see? Visit the ' +\n",
              "            '<a target=\"_blank\" href=https://colab.research.google.com/notebooks/data_table.ipynb>data table notebook</a>'\n",
              "            + ' to learn more about interactive tables.';\n",
              "          element.innerHTML = '';\n",
              "          dataTable['output_type'] = 'display_data';\n",
              "          await google.colab.output.renderOutput(dataTable, element);\n",
              "          const docLink = document.createElement('div');\n",
              "          docLink.innerHTML = docLinkHtml;\n",
              "          element.appendChild(docLink);\n",
              "        }\n",
              "      </script>\n",
              "    </div>\n",
              "  </div>\n",
              "  "
            ],
            "text/plain": [
              "     PassengerId  Survived  Pclass  ...     Fare Cabin  Embarked\n",
              "0              1         0       3  ...   7.2500   NaN         S\n",
              "1              2         1       1  ...  71.2833   C85         C\n",
              "2              3         1       3  ...   7.9250   NaN         S\n",
              "3              4         1       1  ...  53.1000  C123         S\n",
              "4              5         0       3  ...   8.0500   NaN         S\n",
              "..           ...       ...     ...  ...      ...   ...       ...\n",
              "886          887         0       2  ...  13.0000   NaN         S\n",
              "887          888         1       1  ...  30.0000   B42         S\n",
              "888          889         0       3  ...  23.4500   NaN         S\n",
              "889          890         1       1  ...  30.0000  C148         C\n",
              "890          891         0       3  ...   7.7500   NaN         Q\n",
              "\n",
              "[891 rows x 12 columns]"
            ]
          },
          "metadata": {},
          "execution_count": 6
        }
      ]
    },
    {
      "cell_type": "code",
      "source": [
        ""
      ],
      "metadata": {
        "id": "2vi16u8CfVXw"
      },
      "execution_count": null,
      "outputs": []
    }
  ]
}